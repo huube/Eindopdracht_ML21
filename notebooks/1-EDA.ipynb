{
 "cells": [
  {
   "cell_type": "markdown",
   "metadata": {},
   "source": [
    "<h2> In this notebook, we will look at our dataset to get a feeling about the dataset\n",
    "</h2>\n",
    "\n",
    "We have a dataset regarding songs, their genre and some features. The genre is the thing we are trying to predict"
   ]
  },
  {
   "cell_type": "code",
   "execution_count": null,
   "metadata": {},
   "outputs": [],
   "source": [
    "import pandas as pd\n",
    "import seaborn as sns\n"
   ]
  },
  {
   "cell_type": "code",
   "execution_count": null,
   "metadata": {},
   "outputs": [],
   "source": []
  }
 ],
 "metadata": {
  "interpreter": {
   "hash": "eb5c4cecea5d0cc7b6f195879a08e1325a36c50d87ab099289b540df622448c6"
  },
  "kernelspec": {
   "display_name": "Python 3.9.2 64-bit ('.venv': poetry)",
   "language": "python",
   "name": "python3"
  },
  "language_info": {
   "name": "python",
   "version": "3.9.2"
  },
  "orig_nbformat": 4
 },
 "nbformat": 4,
 "nbformat_minor": 2
}
