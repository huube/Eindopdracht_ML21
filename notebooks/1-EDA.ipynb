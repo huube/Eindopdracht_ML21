{
 "cells": [
  {
   "cell_type": "markdown",
   "metadata": {},
   "source": [
    "<h2> In this notebook, we will look at our dataset to get a feeling about the dataset\n",
    "</h2>\n",
    "\n",
    "We have a dataset regarding songs, their genre and some features. The genre is the thing we are trying to predict"
   ]
  },
  {
   "cell_type": "code",
   "execution_count": 12,
   "metadata": {},
   "outputs": [
    {
     "name": "stdout",
     "output_type": "stream",
     "text": [
      "The blackcellmagic extension is already loaded. To reload it, use:\n",
      "  %reload_ext blackcellmagic\n"
     ]
    },
    {
     "name": "stderr",
     "output_type": "stream",
     "text": [
      "UsageError: Line magic function `%%black` not found.\n"
     ]
    }
   ],
   "source": [
    "%load_ext blackcellmagic"
   ]
  },
  {
   "cell_type": "code",
   "execution_count": 13,
   "metadata": {},
   "outputs": [
    {
     "name": "stderr",
     "output_type": "stream",
     "text": [
      "UsageError: %%black is a cell magic, but the cell body is empty.\n"
     ]
    }
   ],
   "source": []
  },
  {
   "cell_type": "code",
   "execution_count": 14,
   "metadata": {},
   "outputs": [],
   "source": [
    "import numpy as np\n",
    "from pathlib import Path\n",
    "import seaborn as sns\n",
    "import matplotlib.pyplot as plt\n",
    "import pandas as pd\n",
    "import sys\n",
    "from loguru import logger\n",
    "import tensorflow as tf\n",
    "from tensorflow import keras\n",
    "from tensorflow.python.keras import layers\n",
    "from sklearn.preprocessing import LabelEncoder, OrdinalEncoder\n",
    "\n",
    "sys.path.insert(0, \"..\")\n",
    "\n",
    "from src.data.make_dataset import create_labeled_data\n",
    "\n",
    "root = Path(\"..\")"
   ]
  },
  {
   "cell_type": "code",
   "execution_count": 3,
   "metadata": {},
   "outputs": [],
   "source": []
  },
  {
   "cell_type": "code",
   "execution_count": 144,
   "metadata": {},
   "outputs": [],
   "source": [
    "df = create_labeled_data()"
   ]
  },
  {
   "cell_type": "code",
   "execution_count": 130,
   "metadata": {},
   "outputs": [
    {
     "data": {
      "text/html": [
       "<div>\n",
       "<style scoped>\n",
       "    .dataframe tbody tr th:only-of-type {\n",
       "        vertical-align: middle;\n",
       "    }\n",
       "\n",
       "    .dataframe tbody tr th {\n",
       "        vertical-align: top;\n",
       "    }\n",
       "\n",
       "    .dataframe thead th {\n",
       "        text-align: right;\n",
       "    }\n",
       "</style>\n",
       "<table border=\"1\" class=\"dataframe\">\n",
       "  <thead>\n",
       "    <tr style=\"text-align: right;\">\n",
       "      <th></th>\n",
       "      <th>danceability</th>\n",
       "      <th>energy</th>\n",
       "      <th>key</th>\n",
       "      <th>loudness</th>\n",
       "      <th>mode</th>\n",
       "      <th>speechiness</th>\n",
       "      <th>acousticness</th>\n",
       "      <th>instrumentalness</th>\n",
       "      <th>liveness</th>\n",
       "      <th>valence</th>\n",
       "      <th>tempo</th>\n",
       "      <th>duration_ms</th>\n",
       "      <th>time_signature</th>\n",
       "      <th>duration</th>\n",
       "    </tr>\n",
       "  </thead>\n",
       "  <tbody>\n",
       "    <tr>\n",
       "      <th>count</th>\n",
       "      <td>88160.000000</td>\n",
       "      <td>88160.000000</td>\n",
       "      <td>88160.000000</td>\n",
       "      <td>88160.000000</td>\n",
       "      <td>88160.000000</td>\n",
       "      <td>88160.000000</td>\n",
       "      <td>88160.000000</td>\n",
       "      <td>88160.000000</td>\n",
       "      <td>88160.000000</td>\n",
       "      <td>88160.000000</td>\n",
       "      <td>88160.000000</td>\n",
       "      <td>8.816000e+04</td>\n",
       "      <td>88160.000000</td>\n",
       "      <td>88160.000000</td>\n",
       "    </tr>\n",
       "    <tr>\n",
       "      <th>mean</th>\n",
       "      <td>0.533840</td>\n",
       "      <td>0.643178</td>\n",
       "      <td>5.326146</td>\n",
       "      <td>-9.020196</td>\n",
       "      <td>0.664655</td>\n",
       "      <td>0.076771</td>\n",
       "      <td>0.263295</td>\n",
       "      <td>0.196546</td>\n",
       "      <td>0.208023</td>\n",
       "      <td>0.506016</td>\n",
       "      <td>122.271350</td>\n",
       "      <td>2.509988e+05</td>\n",
       "      <td>3.903187</td>\n",
       "      <td>252.571964</td>\n",
       "    </tr>\n",
       "    <tr>\n",
       "      <th>std</th>\n",
       "      <td>0.173465</td>\n",
       "      <td>0.247733</td>\n",
       "      <td>3.560088</td>\n",
       "      <td>4.457862</td>\n",
       "      <td>0.472114</td>\n",
       "      <td>0.085957</td>\n",
       "      <td>0.317896</td>\n",
       "      <td>0.324046</td>\n",
       "      <td>0.180317</td>\n",
       "      <td>0.257673</td>\n",
       "      <td>29.490601</td>\n",
       "      <td>1.083295e+05</td>\n",
       "      <td>0.407574</td>\n",
       "      <td>111.333765</td>\n",
       "    </tr>\n",
       "    <tr>\n",
       "      <th>min</th>\n",
       "      <td>0.000000</td>\n",
       "      <td>0.000020</td>\n",
       "      <td>0.000000</td>\n",
       "      <td>-53.270000</td>\n",
       "      <td>0.000000</td>\n",
       "      <td>0.000000</td>\n",
       "      <td>0.000000</td>\n",
       "      <td>0.000000</td>\n",
       "      <td>0.000000</td>\n",
       "      <td>0.000000</td>\n",
       "      <td>0.000000</td>\n",
       "      <td>4.373000e+03</td>\n",
       "      <td>0.000000</td>\n",
       "      <td>1.044440</td>\n",
       "    </tr>\n",
       "    <tr>\n",
       "      <th>25%</th>\n",
       "      <td>0.413000</td>\n",
       "      <td>0.468000</td>\n",
       "      <td>2.000000</td>\n",
       "      <td>-11.388000</td>\n",
       "      <td>0.000000</td>\n",
       "      <td>0.034300</td>\n",
       "      <td>0.006197</td>\n",
       "      <td>0.000004</td>\n",
       "      <td>0.096100</td>\n",
       "      <td>0.299000</td>\n",
       "      <td>99.182750</td>\n",
       "      <td>1.897600e+05</td>\n",
       "      <td>4.000000</td>\n",
       "      <td>189.700770</td>\n",
       "    </tr>\n",
       "    <tr>\n",
       "      <th>50%</th>\n",
       "      <td>0.539000</td>\n",
       "      <td>0.681000</td>\n",
       "      <td>5.000000</td>\n",
       "      <td>-8.129000</td>\n",
       "      <td>1.000000</td>\n",
       "      <td>0.045700</td>\n",
       "      <td>0.096300</td>\n",
       "      <td>0.001440</td>\n",
       "      <td>0.133000</td>\n",
       "      <td>0.507000</td>\n",
       "      <td>120.787000</td>\n",
       "      <td>2.336930e+05</td>\n",
       "      <td>4.000000</td>\n",
       "      <td>234.344040</td>\n",
       "    </tr>\n",
       "    <tr>\n",
       "      <th>75%</th>\n",
       "      <td>0.661000</td>\n",
       "      <td>0.857000</td>\n",
       "      <td>9.000000</td>\n",
       "      <td>-5.779000</td>\n",
       "      <td>1.000000</td>\n",
       "      <td>0.075900</td>\n",
       "      <td>0.478000</td>\n",
       "      <td>0.280000</td>\n",
       "      <td>0.273000</td>\n",
       "      <td>0.717000</td>\n",
       "      <td>140.015000</td>\n",
       "      <td>2.874270e+05</td>\n",
       "      <td>4.000000</td>\n",
       "      <td>289.540770</td>\n",
       "    </tr>\n",
       "    <tr>\n",
       "      <th>max</th>\n",
       "      <td>0.989000</td>\n",
       "      <td>1.000000</td>\n",
       "      <td>11.000000</td>\n",
       "      <td>4.785000</td>\n",
       "      <td>1.000000</td>\n",
       "      <td>0.956000</td>\n",
       "      <td>0.996000</td>\n",
       "      <td>1.000000</td>\n",
       "      <td>1.000000</td>\n",
       "      <td>1.000000</td>\n",
       "      <td>248.098000</td>\n",
       "      <td>3.405341e+06</td>\n",
       "      <td>5.000000</td>\n",
       "      <td>2626.455060</td>\n",
       "    </tr>\n",
       "  </tbody>\n",
       "</table>\n",
       "</div>"
      ],
      "text/plain": [
       "       danceability        energy           key      loudness          mode  \\\n",
       "count  88160.000000  88160.000000  88160.000000  88160.000000  88160.000000   \n",
       "mean       0.533840      0.643178      5.326146     -9.020196      0.664655   \n",
       "std        0.173465      0.247733      3.560088      4.457862      0.472114   \n",
       "min        0.000000      0.000020      0.000000    -53.270000      0.000000   \n",
       "25%        0.413000      0.468000      2.000000    -11.388000      0.000000   \n",
       "50%        0.539000      0.681000      5.000000     -8.129000      1.000000   \n",
       "75%        0.661000      0.857000      9.000000     -5.779000      1.000000   \n",
       "max        0.989000      1.000000     11.000000      4.785000      1.000000   \n",
       "\n",
       "        speechiness  acousticness  instrumentalness      liveness  \\\n",
       "count  88160.000000  88160.000000      88160.000000  88160.000000   \n",
       "mean       0.076771      0.263295          0.196546      0.208023   \n",
       "std        0.085957      0.317896          0.324046      0.180317   \n",
       "min        0.000000      0.000000          0.000000      0.000000   \n",
       "25%        0.034300      0.006197          0.000004      0.096100   \n",
       "50%        0.045700      0.096300          0.001440      0.133000   \n",
       "75%        0.075900      0.478000          0.280000      0.273000   \n",
       "max        0.956000      0.996000          1.000000      1.000000   \n",
       "\n",
       "            valence         tempo   duration_ms  time_signature      duration  \n",
       "count  88160.000000  88160.000000  8.816000e+04    88160.000000  88160.000000  \n",
       "mean       0.506016    122.271350  2.509988e+05        3.903187    252.571964  \n",
       "std        0.257673     29.490601  1.083295e+05        0.407574    111.333765  \n",
       "min        0.000000      0.000000  4.373000e+03        0.000000      1.044440  \n",
       "25%        0.299000     99.182750  1.897600e+05        4.000000    189.700770  \n",
       "50%        0.507000    120.787000  2.336930e+05        4.000000    234.344040  \n",
       "75%        0.717000    140.015000  2.874270e+05        4.000000    289.540770  \n",
       "max        1.000000    248.098000  3.405341e+06        5.000000   2626.455060  "
      ]
     },
     "execution_count": 130,
     "metadata": {},
     "output_type": "execute_result"
    }
   ],
   "source": [
    "df.describe()"
   ]
  },
  {
   "cell_type": "code",
   "execution_count": 131,
   "metadata": {},
   "outputs": [
    {
     "name": "stdout",
     "output_type": "stream",
     "text": [
      "<class 'pandas.core.frame.DataFrame'>\n",
      "Int64Index: 88160 entries, 0 to 88159\n",
      "Data columns (total 22 columns):\n",
      " #   Column            Non-Null Count  Dtype  \n",
      "---  ------            --------------  -----  \n",
      " 0   danceability      88160 non-null  float64\n",
      " 1   energy            88160 non-null  float64\n",
      " 2   key               88160 non-null  int64  \n",
      " 3   loudness          88160 non-null  float64\n",
      " 4   mode              88160 non-null  int64  \n",
      " 5   speechiness       88160 non-null  float64\n",
      " 6   acousticness      88160 non-null  float64\n",
      " 7   instrumentalness  88160 non-null  float64\n",
      " 8   liveness          88160 non-null  float64\n",
      " 9   valence           88160 non-null  float64\n",
      " 10  tempo             88160 non-null  float64\n",
      " 11  type              88160 non-null  object \n",
      " 12  uri               88160 non-null  object \n",
      " 13  analysis_url      88160 non-null  object \n",
      " 14  duration_ms       88160 non-null  int64  \n",
      " 15  time_signature    88160 non-null  int64  \n",
      " 16  track_id          88160 non-null  object \n",
      " 17  response_artist   88160 non-null  object \n",
      " 18  response_track    88160 non-null  object \n",
      " 19  spotify_id        88160 non-null  object \n",
      " 20  duration          88160 non-null  float64\n",
      " 21  genre             88160 non-null  object \n",
      "dtypes: float64(10), int64(4), object(8)\n",
      "memory usage: 15.5+ MB\n"
     ]
    }
   ],
   "source": [
    "df.info()"
   ]
  },
  {
   "cell_type": "code",
   "execution_count": 6,
   "metadata": {},
   "outputs": [
    {
     "ename": "NameError",
     "evalue": "name 'df' is not defined",
     "output_type": "error",
     "traceback": [
      "\u001b[1;31m---------------------------------------------------------------------------\u001b[0m",
      "\u001b[1;31mNameError\u001b[0m                                 Traceback (most recent call last)",
      "\u001b[1;32mc:\\Users\\huube\\OneDrive\\Master of Informatics\\Machine Learning\\Eindopdracht\\notebooks\\1-EDA.ipynb Cell 7'\u001b[0m in \u001b[0;36m<module>\u001b[1;34m\u001b[0m\n\u001b[0;32m      <a href='vscode-notebook-cell:/c%3A/Users/huube/OneDrive/Master%20of%20Informatics/Machine%20Learning/Eindopdracht/notebooks/1-EDA.ipynb#ch0000005?line=0'>1</a>\u001b[0m drop_cols \u001b[39m=\u001b[39m [    \u001b[39m\"\u001b[39m\u001b[39mkey\u001b[39m\u001b[39m\"\u001b[39m,\n\u001b[0;32m      <a href='vscode-notebook-cell:/c%3A/Users/huube/OneDrive/Master%20of%20Informatics/Machine%20Learning/Eindopdracht/notebooks/1-EDA.ipynb#ch0000005?line=1'>2</a>\u001b[0m     \u001b[39m\"\u001b[39m\u001b[39mmode\u001b[39m\u001b[39m\"\u001b[39m,\n\u001b[0;32m      <a href='vscode-notebook-cell:/c%3A/Users/huube/OneDrive/Master%20of%20Informatics/Machine%20Learning/Eindopdracht/notebooks/1-EDA.ipynb#ch0000005?line=2'>3</a>\u001b[0m     \u001b[39m\"\u001b[39m\u001b[39mtype\u001b[39m\u001b[39m\"\u001b[39m,\n\u001b[1;32m   (...)\u001b[0m\n\u001b[0;32m     <a href='vscode-notebook-cell:/c%3A/Users/huube/OneDrive/Master%20of%20Informatics/Machine%20Learning/Eindopdracht/notebooks/1-EDA.ipynb#ch0000005?line=13'>14</a>\u001b[0m     \u001b[39m\"\u001b[39m\u001b[39mloudness\u001b[39m\u001b[39m\"\u001b[39m,\n\u001b[0;32m     <a href='vscode-notebook-cell:/c%3A/Users/huube/OneDrive/Master%20of%20Informatics/Machine%20Learning/Eindopdracht/notebooks/1-EDA.ipynb#ch0000005?line=14'>15</a>\u001b[0m ]\n\u001b[1;32m---> <a href='vscode-notebook-cell:/c%3A/Users/huube/OneDrive/Master%20of%20Informatics/Machine%20Learning/Eindopdracht/notebooks/1-EDA.ipynb#ch0000005?line=16'>17</a>\u001b[0m df_features \u001b[39m=\u001b[39m df\u001b[39m.\u001b[39mdrop(columns\u001b[39m=\u001b[39mdrop_cols)\n",
      "\u001b[1;31mNameError\u001b[0m: name 'df' is not defined"
     ]
    }
   ],
   "source": [
    "drop_cols = [\n",
    "    \"key\",\n",
    "    \"mode\",\n",
    "    \"type\",\n",
    "    \"uri\",\n",
    "    \"analysis_url\",\n",
    "    \"duration_ms\",\n",
    "    \"time_signature\",\n",
    "    \"track_id\",\n",
    "    \"response_artist\",\n",
    "    \"response_track\",\n",
    "    \"spotify_id\",\n",
    "    \"duration\",\n",
    "    \"tempo\",\n",
    "    \"loudness\",\n",
    "]\n",
    "\n",
    "df_features = df.drop(columns=drop_cols)\n"
   ]
  },
  {
   "cell_type": "code",
   "execution_count": 8,
   "metadata": {},
   "outputs": [
    {
     "data": {
      "text/html": [
       "<div>\n",
       "<style scoped>\n",
       "    .dataframe tbody tr th:only-of-type {\n",
       "        vertical-align: middle;\n",
       "    }\n",
       "\n",
       "    .dataframe tbody tr th {\n",
       "        vertical-align: top;\n",
       "    }\n",
       "\n",
       "    .dataframe thead th {\n",
       "        text-align: right;\n",
       "    }\n",
       "</style>\n",
       "<table border=\"1\" class=\"dataframe\">\n",
       "  <thead>\n",
       "    <tr style=\"text-align: right;\">\n",
       "      <th></th>\n",
       "      <th>genre</th>\n",
       "      <th>variable</th>\n",
       "      <th>value</th>\n",
       "    </tr>\n",
       "  </thead>\n",
       "  <tbody>\n",
       "    <tr>\n",
       "      <th>0</th>\n",
       "      <td>Latin</td>\n",
       "      <td>danceability</td>\n",
       "      <td>0.489</td>\n",
       "    </tr>\n",
       "    <tr>\n",
       "      <th>1</th>\n",
       "      <td>World</td>\n",
       "      <td>danceability</td>\n",
       "      <td>0.497</td>\n",
       "    </tr>\n",
       "    <tr>\n",
       "      <th>2</th>\n",
       "      <td>Pop</td>\n",
       "      <td>danceability</td>\n",
       "      <td>0.680</td>\n",
       "    </tr>\n",
       "    <tr>\n",
       "      <th>3</th>\n",
       "      <td>Rock</td>\n",
       "      <td>danceability</td>\n",
       "      <td>0.318</td>\n",
       "    </tr>\n",
       "    <tr>\n",
       "      <th>4</th>\n",
       "      <td>Rock</td>\n",
       "      <td>danceability</td>\n",
       "      <td>0.600</td>\n",
       "    </tr>\n",
       "    <tr>\n",
       "      <th>...</th>\n",
       "      <td>...</td>\n",
       "      <td>...</td>\n",
       "      <td>...</td>\n",
       "    </tr>\n",
       "    <tr>\n",
       "      <th>617115</th>\n",
       "      <td>Rock</td>\n",
       "      <td>valence</td>\n",
       "      <td>0.707</td>\n",
       "    </tr>\n",
       "    <tr>\n",
       "      <th>617116</th>\n",
       "      <td>Jazz</td>\n",
       "      <td>valence</td>\n",
       "      <td>0.523</td>\n",
       "    </tr>\n",
       "    <tr>\n",
       "      <th>617117</th>\n",
       "      <td>Latin</td>\n",
       "      <td>valence</td>\n",
       "      <td>0.379</td>\n",
       "    </tr>\n",
       "    <tr>\n",
       "      <th>617118</th>\n",
       "      <td>Rock</td>\n",
       "      <td>valence</td>\n",
       "      <td>0.497</td>\n",
       "    </tr>\n",
       "    <tr>\n",
       "      <th>617119</th>\n",
       "      <td>Pop</td>\n",
       "      <td>valence</td>\n",
       "      <td>0.473</td>\n",
       "    </tr>\n",
       "  </tbody>\n",
       "</table>\n",
       "<p>617120 rows × 3 columns</p>\n",
       "</div>"
      ],
      "text/plain": [
       "        genre      variable  value\n",
       "0       Latin  danceability  0.489\n",
       "1       World  danceability  0.497\n",
       "2         Pop  danceability  0.680\n",
       "3        Rock  danceability  0.318\n",
       "4        Rock  danceability  0.600\n",
       "...       ...           ...    ...\n",
       "617115   Rock       valence  0.707\n",
       "617116   Jazz       valence  0.523\n",
       "617117  Latin       valence  0.379\n",
       "617118   Rock       valence  0.497\n",
       "617119    Pop       valence  0.473\n",
       "\n",
       "[617120 rows x 3 columns]"
      ]
     },
     "execution_count": 8,
     "metadata": {},
     "output_type": "execute_result"
    }
   ],
   "source": [
    "df_stack = df_features.melt(id_vars='genre')\n",
    "df_stack"
   ]
  },
  {
   "cell_type": "code",
   "execution_count": 7,
   "metadata": {},
   "outputs": [
    {
     "ename": "NameError",
     "evalue": "name 'df_stack' is not defined",
     "output_type": "error",
     "traceback": [
      "\u001b[1;31m---------------------------------------------------------------------------\u001b[0m",
      "\u001b[1;31mNameError\u001b[0m                                 Traceback (most recent call last)",
      "\u001b[1;32mc:\\Users\\huube\\OneDrive\\Master of Informatics\\Machine Learning\\Eindopdracht\\notebooks\\1-EDA.ipynb Cell 9'\u001b[0m in \u001b[0;36m<module>\u001b[1;34m\u001b[0m\n\u001b[0;32m      <a href='vscode-notebook-cell:/c%3A/Users/huube/OneDrive/Master%20of%20Informatics/Machine%20Learning/Eindopdracht/notebooks/1-EDA.ipynb#ch0000007?line=0'>1</a>\u001b[0m plt\u001b[39m.\u001b[39mfigure(figsize\u001b[39m=\u001b[39m(\u001b[39m30\u001b[39m, \u001b[39m15\u001b[39m))\n\u001b[1;32m----> <a href='vscode-notebook-cell:/c%3A/Users/huube/OneDrive/Master%20of%20Informatics/Machine%20Learning/Eindopdracht/notebooks/1-EDA.ipynb#ch0000007?line=1'>2</a>\u001b[0m sns\u001b[39m.\u001b[39mboxplot(data\u001b[39m=\u001b[39mdf_stack, x\u001b[39m=\u001b[39m\u001b[39m\"\u001b[39m\u001b[39mvariable\u001b[39m\u001b[39m\"\u001b[39m, y\u001b[39m=\u001b[39m\u001b[39m\"\u001b[39m\u001b[39mvalue\u001b[39m\u001b[39m\"\u001b[39m, hue\u001b[39m=\u001b[39m\u001b[39m\"\u001b[39m\u001b[39mgenre\u001b[39m\u001b[39m\"\u001b[39m)\n",
      "\u001b[1;31mNameError\u001b[0m: name 'df_stack' is not defined"
     ]
    },
    {
     "data": {
      "text/plain": [
       "<Figure size 2160x1080 with 0 Axes>"
      ]
     },
     "metadata": {},
     "output_type": "display_data"
    }
   ],
   "source": [
    "plt.figure(figsize=(30, 15))\n",
    "sns.boxplot(data=df_stack, x=\"variable\", y=\"value\", hue=\"genre\")\n"
   ]
  },
  {
   "cell_type": "code",
   "execution_count": 15,
   "metadata": {},
   "outputs": [],
   "source": [
    "plt.figure(figsize=(20, 10))\n",
    "sns.pairplot(data=df_features, hue=\"genre\", kind=\"scatter\", plot_kws={\"alpha\": 0.1})"
   ]
  },
  {
   "cell_type": "code",
   "execution_count": 16,
   "metadata": {},
   "outputs": [],
   "source": [
    "plt.figure(figsize=(14, 7))\n",
    "sns.boxplot(\n",
    "    data=df[[\"tempo\", \"genre\"]].melt(id_vars=\"genre\"),\n",
    "    x=\"variable\",\n",
    "    y=\"value\",\n",
    "    hue=\"genre\",\n",
    ")"
   ]
  },
  {
   "cell_type": "code",
   "execution_count": 17,
   "metadata": {},
   "outputs": [],
   "source": [
    "plt.figure(figsize=(14, 7))\n",
    "sns.boxplot(\n",
    "    data=df[[\"duration\", \"genre\"]].melt(id_vars=\"genre\"),\n",
    "    x=\"variable\",\n",
    "    y=\"value\",\n",
    "    hue=\"genre\",\n",
    ")"
   ]
  },
  {
   "cell_type": "code",
   "execution_count": 18,
   "metadata": {},
   "outputs": [],
   "source": [
    "plt.figure(figsize=(14, 7))\n",
    "sns.boxplot(\n",
    "    data=df[[\"duration\", \"genre\"]].melt(id_vars=\"genre\"),\n",
    "    x=\"variable\",\n",
    "    y=\"value\",\n",
    "    hue=\"genre\",\n",
    ")"
   ]
  },
  {
   "cell_type": "code",
   "execution_count": 20,
   "metadata": {},
   "outputs": [],
   "source": [
    "df[[\"key\"]].value_counts()"
   ]
  },
  {
   "cell_type": "code",
   "execution_count": 21,
   "metadata": {},
   "outputs": [],
   "source": [
    "plt.figure(figsize=(14, 7))\n",
    "sns.histplot(data=df[[\"mode\", \"genre\"]], x=\"genre\", hue=\"mode\")"
   ]
  },
  {
   "cell_type": "code",
   "execution_count": 22,
   "metadata": {},
   "outputs": [],
   "source": [
    "df_genre_counts = df[\"genre\"].value_counts().reset_index()\n",
    "df_genre_ratios = df[\"genre\"].value_counts(normalize=True).reset_index()\n",
    "\n",
    "df_genre_counts = df_genre_counts.merge(\n",
    "    df_genre_ratios, left_index=True, right_index=True, suffixes=(\"\", \"_\")\n",
    ")\n",
    "df_genre_counts.drop(columns=[\"index_\"])\n",
    "df_genre_counts.columns = [\"index\", \"Genre\", \"Counts\", \"ratio\"]\n",
    "df_genre_counts"
   ]
  }
 ],
 "metadata": {
  "interpreter": {
   "hash": "eb5c4cecea5d0cc7b6f195879a08e1325a36c50d87ab099289b540df622448c6"
  },
  "kernelspec": {
   "display_name": "Python 3.9.2 64-bit ('.venv': poetry)",
   "language": "python",
   "name": "python3"
  },
  "language_info": {
   "codemirror_mode": {
    "name": "ipython",
    "version": 3
   },
   "file_extension": ".py",
   "mimetype": "text/x-python",
   "name": "python",
   "nbconvert_exporter": "python",
   "pygments_lexer": "ipython3",
   "version": "3.9.2"
  },
  "orig_nbformat": 4
 },
 "nbformat": 4,
 "nbformat_minor": 2
}
