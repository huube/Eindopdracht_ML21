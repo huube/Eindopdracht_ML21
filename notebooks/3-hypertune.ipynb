{
 "cells": [
  {
   "cell_type": "code",
   "execution_count": 47,
   "metadata": {},
   "outputs": [],
   "source": [
    "import numpy as np\n",
    "from pathlib import Path\n",
    "import seaborn as sns\n",
    "import matplotlib.pyplot as plt\n",
    "import pandas as pd\n",
    "import sys, os\n",
    "from loguru import logger\n",
    "import tensorflow as tf\n",
    "from tensorflow import keras\n",
    "from tensorflow.python.keras import layers\n",
    "from sklearn.preprocessing import LabelEncoder, OrdinalEncoder\n",
    "from sklearn.dummy import DummyClassifier\n",
    "from tensorflow.python.keras.layers import Dense, Flatten, Input, Dropout\n",
    "from tensorflow.python.keras.models import Sequential\n",
    "from tensorflow.python.keras.callbacks import EarlyStopping, TensorBoard\n",
    "from ray.tune.integration.keras import TuneReportCallback\n",
    "from ray.tune.schedulers import AsyncHyperBandScheduler\n",
    "from ray.tune import JupyterNotebookReporter\n",
    "from ray import tune\n",
    "import keras_tuner as kt\n",
    "from kerastuner.tuners import RandomSearch, Hyperband\n",
    "from kerastuner.engine.hyperparameters import HyperParameters as hp\n",
    "from tensorflow.keras.models import Sequential\n",
    "\n",
    "sys.path.append('..')\n",
    "\n",
    "from definitions import get_project_root\n",
    "from src.data.make_dataset import create_train_test_validation\n",
    "from src.visualization.visualize import plot_results\n",
    "\n",
    "root = get_project_root()\n"
   ]
  },
  {
   "cell_type": "code",
   "execution_count": 48,
   "metadata": {},
   "outputs": [],
   "source": [
    "tf.random.set_seed(42)"
   ]
  },
  {
   "cell_type": "code",
   "execution_count": 49,
   "metadata": {},
   "outputs": [
    {
     "name": "stderr",
     "output_type": "stream",
     "text": [
      "2022-02-12 13:04:28.445 | INFO     | src.data.make_dataset:create_train_test_validation:73 - found file labeled_data.csv, procceed with creating train, test and validation sets\n"
     ]
    },
    {
     "data": {
      "text/plain": [
       "((61711, 23), (61711, 1), (13225, 23), (13225, 1), (13224, 23), (13224, 1))"
      ]
     },
     "execution_count": 49,
     "metadata": {},
     "output_type": "execute_result"
    }
   ],
   "source": [
    "## Create train, validation and test sets\n",
    "x_train, x_valid, x_test, y_train, y_valid, y_test = create_train_test_validation()\n",
    "x_train.shape, y_train.shape, x_valid.shape, y_valid.shape, x_test.shape, y_test.shape"
   ]
  },
  {
   "cell_type": "code",
   "execution_count": 50,
   "metadata": {},
   "outputs": [],
   "source": [
    "def model_builder(hp):\n",
    "    model = Sequential()\n",
    "\n",
    "    model.add(Dense(23,activation='relu', input_shape=(23,)))\n",
    "\n",
    "    for i in range(hp.Int(\"n_layers\",1,10)):\n",
    "        model.add(Dense(hp.Int(f\"layer_{i}\",1,200),activation='relu'))\n",
    "\n",
    "    model.add(Dropout(hp.Float(\"dropout\",0.05,0.4)))\n",
    "    model.add(Dense(15,activation='softmax'))\n",
    "\n",
    "    model.compile(optimizer=\"adam\", loss='sparse_categorical_crossentropy',metrics=['accuracy'])\n",
    "\n",
    "    return model\n",
    "    "
   ]
  },
  {
   "cell_type": "markdown",
   "metadata": {},
   "source": [
    "<h2> randomsearch tuner"
   ]
  },
  {
   "cell_type": "code",
   "execution_count": 35,
   "metadata": {},
   "outputs": [
    {
     "name": "stdout",
     "output_type": "stream",
     "text": [
      "INFO:tensorflow:Reloading Oracle from existing project logs_kt3\\untitled_project\\oracle.json\n",
      "INFO:tensorflow:Reloading Tuner from logs_kt3\\untitled_project\\tuner0.json\n",
      "Search space summary\n",
      "Default search space size: 11\n",
      "n_layers (Int)\n",
      "{'default': None, 'conditions': [], 'min_value': 1, 'max_value': 10, 'step': 1, 'sampling': None}\n",
      "layer_0 (Int)\n",
      "{'default': None, 'conditions': [], 'min_value': 1, 'max_value': 200, 'step': 1, 'sampling': None}\n",
      "dropout (Float)\n",
      "{'default': 0.05, 'conditions': [], 'min_value': 0.05, 'max_value': 0.4, 'step': None, 'sampling': None}\n",
      "layer_1 (Int)\n",
      "{'default': None, 'conditions': [], 'min_value': 1, 'max_value': 200, 'step': 1, 'sampling': None}\n",
      "layer_2 (Int)\n",
      "{'default': None, 'conditions': [], 'min_value': 1, 'max_value': 200, 'step': 1, 'sampling': None}\n",
      "layer_3 (Int)\n",
      "{'default': None, 'conditions': [], 'min_value': 1, 'max_value': 200, 'step': 1, 'sampling': None}\n",
      "layer_4 (Int)\n",
      "{'default': None, 'conditions': [], 'min_value': 1, 'max_value': 200, 'step': 1, 'sampling': None}\n",
      "layer_5 (Int)\n",
      "{'default': None, 'conditions': [], 'min_value': 1, 'max_value': 200, 'step': 1, 'sampling': None}\n",
      "layer_6 (Int)\n",
      "{'default': None, 'conditions': [], 'min_value': 1, 'max_value': 200, 'step': 1, 'sampling': None}\n",
      "layer_7 (Int)\n",
      "{'default': None, 'conditions': [], 'min_value': 1, 'max_value': 200, 'step': 1, 'sampling': None}\n",
      "layer_8 (Int)\n",
      "{'default': None, 'conditions': [], 'min_value': 1, 'max_value': 200, 'step': 1, 'sampling': None}\n",
      "INFO:tensorflow:Oracle triggered exit\n"
     ]
    }
   ],
   "source": [
    "log_dir = \"logs_kt_random\"\n",
    "tensorboard = TensorBoard(log_dir=log_dir)\n",
    "\n",
    "tuner = RandomSearch(\n",
    "    model_builder,\n",
    "    objective='val_loss',\n",
    "    max_trials=15,\n",
    "    executions_per_trial=3,\n",
    "    directory=log_dir)\n",
    "\n",
    "tuner.search_space_summary()\n",
    "\n",
    "tuner.search(x=x_train,y=y_train,epochs=10,batch_size=64,callbacks=[tensorboard],validation_data=(x_valid,y_valid))"
   ]
  },
  {
   "cell_type": "code",
   "execution_count": 36,
   "metadata": {},
   "outputs": [],
   "source": [
    "best_randomsearch_params = tuner.get_best_hyperparameters(num_trials=1)[0]"
   ]
  },
  {
   "cell_type": "code",
   "execution_count": 38,
   "metadata": {},
   "outputs": [
    {
     "name": "stdout",
     "output_type": "stream",
     "text": [
      "Epoch 1/50\n",
      "1929/1929 [==============================] - 4s 2ms/step - loss: 1.5779 - accuracy: 0.5009 - val_loss: 1.4385 - val_accuracy: 0.5246\n",
      "Epoch 2/50\n",
      "1929/1929 [==============================] - 3s 2ms/step - loss: 1.4520 - accuracy: 0.5294 - val_loss: 1.4044 - val_accuracy: 0.5410\n",
      "Epoch 3/50\n",
      "1929/1929 [==============================] - 3s 2ms/step - loss: 1.4233 - accuracy: 0.5358 - val_loss: 1.3899 - val_accuracy: 0.5460\n",
      "Epoch 4/50\n",
      "1929/1929 [==============================] - 3s 2ms/step - loss: 1.4035 - accuracy: 0.5420 - val_loss: 1.3890 - val_accuracy: 0.5452\n",
      "Epoch 5/50\n",
      "1929/1929 [==============================] - 3s 2ms/step - loss: 1.3921 - accuracy: 0.5461 - val_loss: 1.3807 - val_accuracy: 0.5458\n",
      "Epoch 6/50\n",
      "1929/1929 [==============================] - 3s 2ms/step - loss: 1.3800 - accuracy: 0.5489 - val_loss: 1.3874 - val_accuracy: 0.5463\n",
      "Epoch 7/50\n",
      "1929/1929 [==============================] - 3s 2ms/step - loss: 1.3675 - accuracy: 0.5506 - val_loss: 1.3776 - val_accuracy: 0.5515\n",
      "Epoch 8/50\n",
      "1929/1929 [==============================] - 3s 2ms/step - loss: 1.3592 - accuracy: 0.5543 - val_loss: 1.3764 - val_accuracy: 0.5502\n",
      "Epoch 9/50\n",
      "1929/1929 [==============================] - 3s 2ms/step - loss: 1.3495 - accuracy: 0.5570 - val_loss: 1.3716 - val_accuracy: 0.5495\n",
      "Epoch 10/50\n",
      "1929/1929 [==============================] - 3s 2ms/step - loss: 1.3437 - accuracy: 0.5593 - val_loss: 1.3552 - val_accuracy: 0.5522\n",
      "Epoch 11/50\n",
      "1929/1929 [==============================] - 4s 2ms/step - loss: 1.3371 - accuracy: 0.5592 - val_loss: 1.3644 - val_accuracy: 0.5525\n",
      "Epoch 12/50\n",
      "1929/1929 [==============================] - 4s 2ms/step - loss: 1.3314 - accuracy: 0.5622 - val_loss: 1.3649 - val_accuracy: 0.5526\n",
      "Epoch 13/50\n",
      "1929/1929 [==============================] - 4s 2ms/step - loss: 1.3273 - accuracy: 0.5645 - val_loss: 1.3598 - val_accuracy: 0.5543\n",
      "Epoch 14/50\n",
      "1929/1929 [==============================] - 3s 2ms/step - loss: 1.3237 - accuracy: 0.5641 - val_loss: 1.3639 - val_accuracy: 0.5549\n",
      "Epoch 15/50\n",
      "1929/1929 [==============================] - 3s 2ms/step - loss: 1.3166 - accuracy: 0.5649 - val_loss: 1.3562 - val_accuracy: 0.5576\n",
      "Epoch 16/50\n",
      "1929/1929 [==============================] - 3s 2ms/step - loss: 1.3133 - accuracy: 0.5656 - val_loss: 1.3578 - val_accuracy: 0.5546\n",
      "Epoch 17/50\n",
      "1929/1929 [==============================] - 3s 2ms/step - loss: 1.3102 - accuracy: 0.5689 - val_loss: 1.3611 - val_accuracy: 0.5564\n",
      "Epoch 18/50\n",
      "1929/1929 [==============================] - 3s 2ms/step - loss: 1.3057 - accuracy: 0.5697 - val_loss: 1.3599 - val_accuracy: 0.5574\n",
      "Epoch 19/50\n",
      "1929/1929 [==============================] - 3s 2ms/step - loss: 1.3013 - accuracy: 0.5722 - val_loss: 1.3651 - val_accuracy: 0.5595\n",
      "Epoch 20/50\n",
      "1929/1929 [==============================] - 3s 2ms/step - loss: 1.2972 - accuracy: 0.5708 - val_loss: 1.3606 - val_accuracy: 0.5570\n",
      "Epoch 21/50\n",
      "1929/1929 [==============================] - 3s 2ms/step - loss: 1.2948 - accuracy: 0.5698 - val_loss: 1.3589 - val_accuracy: 0.5611\n",
      "Epoch 22/50\n",
      "1929/1929 [==============================] - 3s 2ms/step - loss: 1.2922 - accuracy: 0.5731 - val_loss: 1.3632 - val_accuracy: 0.5601\n",
      "Epoch 23/50\n",
      "1929/1929 [==============================] - 3s 2ms/step - loss: 1.2864 - accuracy: 0.5729 - val_loss: 1.3640 - val_accuracy: 0.5598\n",
      "Epoch 24/50\n",
      "1929/1929 [==============================] - 3s 2ms/step - loss: 1.2867 - accuracy: 0.5730 - val_loss: 1.3731 - val_accuracy: 0.5581\n",
      "Epoch 25/50\n",
      "1929/1929 [==============================] - 3s 2ms/step - loss: 1.2820 - accuracy: 0.5744 - val_loss: 1.3652 - val_accuracy: 0.5576\n",
      "Epoch 26/50\n",
      "1929/1929 [==============================] - 3s 2ms/step - loss: 1.2802 - accuracy: 0.5763 - val_loss: 1.3680 - val_accuracy: 0.5569\n",
      "Epoch 27/50\n",
      "1929/1929 [==============================] - 3s 2ms/step - loss: 1.2769 - accuracy: 0.5759 - val_loss: 1.3781 - val_accuracy: 0.5559\n",
      "Epoch 28/50\n",
      "1929/1929 [==============================] - 3s 2ms/step - loss: 1.2742 - accuracy: 0.5770 - val_loss: 1.3771 - val_accuracy: 0.5536\n",
      "Epoch 29/50\n",
      "1929/1929 [==============================] - 3s 2ms/step - loss: 1.2715 - accuracy: 0.5780 - val_loss: 1.3698 - val_accuracy: 0.5611\n",
      "Epoch 30/50\n",
      "1929/1929 [==============================] - 3s 2ms/step - loss: 1.2710 - accuracy: 0.5777 - val_loss: 1.3699 - val_accuracy: 0.5560\n",
      "Epoch 31/50\n",
      "1929/1929 [==============================] - 3s 2ms/step - loss: 1.2647 - accuracy: 0.5794 - val_loss: 1.3789 - val_accuracy: 0.5555\n",
      "Epoch 32/50\n",
      "1929/1929 [==============================] - 3s 2ms/step - loss: 1.2623 - accuracy: 0.5792 - val_loss: 1.3819 - val_accuracy: 0.5580\n",
      "Epoch 33/50\n",
      "1929/1929 [==============================] - 3s 2ms/step - loss: 1.2609 - accuracy: 0.5801 - val_loss: 1.3792 - val_accuracy: 0.5574\n",
      "Epoch 34/50\n",
      "1929/1929 [==============================] - 3s 2ms/step - loss: 1.2592 - accuracy: 0.5804 - val_loss: 1.3848 - val_accuracy: 0.5577\n",
      "Epoch 35/50\n",
      "1929/1929 [==============================] - 3s 2ms/step - loss: 1.2572 - accuracy: 0.5806 - val_loss: 1.3801 - val_accuracy: 0.5577\n",
      "Epoch 36/50\n",
      "1929/1929 [==============================] - 3s 2ms/step - loss: 1.2564 - accuracy: 0.5814 - val_loss: 1.3833 - val_accuracy: 0.5596\n",
      "Epoch 37/50\n",
      "1929/1929 [==============================] - 3s 2ms/step - loss: 1.2553 - accuracy: 0.5808 - val_loss: 1.3809 - val_accuracy: 0.5620\n",
      "Epoch 38/50\n",
      "1929/1929 [==============================] - 3s 2ms/step - loss: 1.2509 - accuracy: 0.5824 - val_loss: 1.3790 - val_accuracy: 0.5585\n",
      "Epoch 39/50\n",
      "1929/1929 [==============================] - 3s 2ms/step - loss: 1.2504 - accuracy: 0.5812 - val_loss: 1.3872 - val_accuracy: 0.5552\n",
      "Epoch 40/50\n",
      "1929/1929 [==============================] - 3s 2ms/step - loss: 1.2465 - accuracy: 0.5832 - val_loss: 1.3832 - val_accuracy: 0.5580\n",
      "Epoch 41/50\n",
      "1929/1929 [==============================] - 3s 2ms/step - loss: 1.2460 - accuracy: 0.5818 - val_loss: 1.3893 - val_accuracy: 0.5550\n",
      "Epoch 42/50\n",
      "1929/1929 [==============================] - 4s 2ms/step - loss: 1.2438 - accuracy: 0.5841 - val_loss: 1.3905 - val_accuracy: 0.5575\n",
      "Epoch 43/50\n",
      "1929/1929 [==============================] - 3s 2ms/step - loss: 1.2425 - accuracy: 0.5854 - val_loss: 1.3885 - val_accuracy: 0.5561\n",
      "Epoch 44/50\n",
      "1929/1929 [==============================] - 3s 2ms/step - loss: 1.2393 - accuracy: 0.5853 - val_loss: 1.4000 - val_accuracy: 0.5567\n",
      "Epoch 45/50\n",
      "1929/1929 [==============================] - 3s 2ms/step - loss: 1.2381 - accuracy: 0.5845 - val_loss: 1.3980 - val_accuracy: 0.5570\n",
      "Epoch 46/50\n",
      "1929/1929 [==============================] - 3s 2ms/step - loss: 1.2337 - accuracy: 0.5855 - val_loss: 1.4057 - val_accuracy: 0.5528\n",
      "Epoch 47/50\n",
      "1929/1929 [==============================] - 3s 2ms/step - loss: 1.2341 - accuracy: 0.5864 - val_loss: 1.4016 - val_accuracy: 0.5549\n",
      "Epoch 48/50\n",
      "1929/1929 [==============================] - 3s 2ms/step - loss: 1.2333 - accuracy: 0.5855 - val_loss: 1.3989 - val_accuracy: 0.5562\n",
      "Epoch 49/50\n",
      "1929/1929 [==============================] - 3s 2ms/step - loss: 1.2308 - accuracy: 0.5862 - val_loss: 1.4093 - val_accuracy: 0.5572\n",
      "Epoch 50/50\n",
      "1929/1929 [==============================] - 3s 2ms/step - loss: 1.2302 - accuracy: 0.5868 - val_loss: 1.4098 - val_accuracy: 0.5535\n"
     ]
    }
   ],
   "source": [
    "randomsearch_model = model_builder(best_randomsearch_params)\n",
    "history = randomsearch_model.fit(x_train, y_train, epochs=50,validation_data=(x_valid,y_valid))"
   ]
  },
  {
   "cell_type": "code",
   "execution_count": 45,
   "metadata": {},
   "outputs": [
    {
     "name": "stdout",
     "output_type": "stream",
     "text": [
      "414/414 [==============================] - 0s 1ms/step - loss: 1.4069 - accuracy: 0.5482\n"
     ]
    },
    {
     "data": {
      "text/plain": [
       "[1.406857967376709, 0.5481699705123901]"
      ]
     },
     "execution_count": 45,
     "metadata": {},
     "output_type": "execute_result"
    }
   ],
   "source": [
    "eval_result = randomsearch_model.evaluate(x_test,y_test)\n",
    "eval_result"
   ]
  },
  {
   "cell_type": "markdown",
   "metadata": {},
   "source": [
    "<h2> Randomsearch does not give a better result than the base model. Let's try Hyperband"
   ]
  },
  {
   "cell_type": "markdown",
   "metadata": {},
   "source": [
    "<h3> We can reuse the model_builder function"
   ]
  },
  {
   "cell_type": "code",
   "execution_count": 53,
   "metadata": {},
   "outputs": [
    {
     "name": "stdout",
     "output_type": "stream",
     "text": [
      "Trial 30 Complete [00h 01m 09s]\n",
      "val_loss: 1.3710397481918335\n",
      "\n",
      "Best val_loss So Far: 1.3495172262191772\n",
      "Total elapsed time: 00h 12m 37s\n",
      "INFO:tensorflow:Oracle triggered exit\n"
     ]
    }
   ],
   "source": [
    "log_dir = \"kt_hb\"\n",
    "\n",
    "tuner_hb = Hyperband(\n",
    "    model_builder,\n",
    "    objective=\"val_loss\",\n",
    "    max_epochs=25,\n",
    "    factor=3,\n",
    "    hyperband_iterations=1,\n",
    "    seed=42,\n",
    "    directory=log_dir\n",
    ")\n",
    "\n",
    "tuner_hb.search(x=x_train,y=y_train,epochs=10,batch_size=64,callbacks=[tensorboard],validation_data=(x_valid,y_valid))"
   ]
  },
  {
   "cell_type": "code",
   "execution_count": 55,
   "metadata": {},
   "outputs": [
    {
     "name": "stdout",
     "output_type": "stream",
     "text": [
      "Epoch 1/50\n",
      "1929/1929 [==============================] - 5s 2ms/step - loss: 1.5363 - accuracy: 0.5058 - val_loss: 1.4529 - val_accuracy: 0.5186\n",
      "Epoch 2/50\n",
      "1929/1929 [==============================] - 4s 2ms/step - loss: 1.4271 - accuracy: 0.5334 - val_loss: 1.4081 - val_accuracy: 0.5412\n",
      "Epoch 3/50\n",
      "1929/1929 [==============================] - 4s 2ms/step - loss: 1.3982 - accuracy: 0.5404 - val_loss: 1.3844 - val_accuracy: 0.5470\n",
      "Epoch 4/50\n",
      "1929/1929 [==============================] - 4s 2ms/step - loss: 1.3788 - accuracy: 0.5482 - val_loss: 1.3811 - val_accuracy: 0.5499\n",
      "Epoch 5/50\n",
      "1929/1929 [==============================] - 3s 2ms/step - loss: 1.3641 - accuracy: 0.5494 - val_loss: 1.3859 - val_accuracy: 0.5466\n",
      "Epoch 6/50\n",
      "1929/1929 [==============================] - 3s 2ms/step - loss: 1.3528 - accuracy: 0.5542 - val_loss: 1.3773 - val_accuracy: 0.5487\n",
      "Epoch 7/50\n",
      "1929/1929 [==============================] - 3s 2ms/step - loss: 1.3415 - accuracy: 0.5567 - val_loss: 1.3810 - val_accuracy: 0.5509\n",
      "Epoch 8/50\n",
      "1929/1929 [==============================] - 3s 2ms/step - loss: 1.3337 - accuracy: 0.5590 - val_loss: 1.3792 - val_accuracy: 0.5481\n",
      "Epoch 9/50\n",
      "1929/1929 [==============================] - 3s 2ms/step - loss: 1.3247 - accuracy: 0.5607 - val_loss: 1.3672 - val_accuracy: 0.5550\n",
      "Epoch 10/50\n",
      "1929/1929 [==============================] - 3s 2ms/step - loss: 1.3181 - accuracy: 0.5626 - val_loss: 1.3626 - val_accuracy: 0.5562\n",
      "Epoch 11/50\n",
      "1929/1929 [==============================] - 3s 2ms/step - loss: 1.3104 - accuracy: 0.5648 - val_loss: 1.3644 - val_accuracy: 0.5570\n",
      "Epoch 12/50\n",
      "1929/1929 [==============================] - 3s 2ms/step - loss: 1.3028 - accuracy: 0.5670 - val_loss: 1.3687 - val_accuracy: 0.5526\n",
      "Epoch 13/50\n",
      "1929/1929 [==============================] - 3s 2ms/step - loss: 1.2975 - accuracy: 0.5707 - val_loss: 1.3774 - val_accuracy: 0.5533\n",
      "Epoch 14/50\n",
      "1929/1929 [==============================] - 3s 2ms/step - loss: 1.2913 - accuracy: 0.5704 - val_loss: 1.3724 - val_accuracy: 0.5491\n",
      "Epoch 15/50\n",
      "1929/1929 [==============================] - 3s 2ms/step - loss: 1.2847 - accuracy: 0.5719 - val_loss: 1.3611 - val_accuracy: 0.5571\n",
      "Epoch 16/50\n",
      "1929/1929 [==============================] - 4s 2ms/step - loss: 1.2787 - accuracy: 0.5741 - val_loss: 1.3641 - val_accuracy: 0.5564\n",
      "Epoch 17/50\n",
      "1929/1929 [==============================] - 3s 2ms/step - loss: 1.2736 - accuracy: 0.5733 - val_loss: 1.3659 - val_accuracy: 0.5567\n",
      "Epoch 18/50\n",
      "1929/1929 [==============================] - 3s 2ms/step - loss: 1.2680 - accuracy: 0.5770 - val_loss: 1.3676 - val_accuracy: 0.5597\n",
      "Epoch 19/50\n",
      "1929/1929 [==============================] - 3s 2ms/step - loss: 1.2614 - accuracy: 0.5764 - val_loss: 1.3767 - val_accuracy: 0.5552\n",
      "Epoch 20/50\n",
      "1929/1929 [==============================] - 3s 2ms/step - loss: 1.2558 - accuracy: 0.5792 - val_loss: 1.3754 - val_accuracy: 0.5533\n",
      "Epoch 21/50\n",
      "1929/1929 [==============================] - 3s 2ms/step - loss: 1.2507 - accuracy: 0.5806 - val_loss: 1.3719 - val_accuracy: 0.5557\n",
      "Epoch 22/50\n",
      "1929/1929 [==============================] - 4s 2ms/step - loss: 1.2466 - accuracy: 0.5821 - val_loss: 1.3868 - val_accuracy: 0.5553\n",
      "Epoch 23/50\n",
      "1929/1929 [==============================] - 3s 2ms/step - loss: 1.2384 - accuracy: 0.5832 - val_loss: 1.3851 - val_accuracy: 0.5572\n",
      "Epoch 24/50\n",
      "1929/1929 [==============================] - 3s 2ms/step - loss: 1.2365 - accuracy: 0.5834 - val_loss: 1.3966 - val_accuracy: 0.5518\n",
      "Epoch 25/50\n",
      "1929/1929 [==============================] - 3s 2ms/step - loss: 1.2314 - accuracy: 0.5849 - val_loss: 1.3842 - val_accuracy: 0.5577\n",
      "Epoch 26/50\n",
      "1929/1929 [==============================] - 3s 2ms/step - loss: 1.2236 - accuracy: 0.5865 - val_loss: 1.3870 - val_accuracy: 0.5569\n",
      "Epoch 27/50\n",
      "1929/1929 [==============================] - 3s 2ms/step - loss: 1.2169 - accuracy: 0.5889 - val_loss: 1.4071 - val_accuracy: 0.5530\n",
      "Epoch 28/50\n",
      "1929/1929 [==============================] - 3s 2ms/step - loss: 1.2149 - accuracy: 0.5879 - val_loss: 1.4055 - val_accuracy: 0.5501\n",
      "Epoch 29/50\n",
      "1929/1929 [==============================] - 3s 2ms/step - loss: 1.2084 - accuracy: 0.5912 - val_loss: 1.3981 - val_accuracy: 0.5543\n",
      "Epoch 30/50\n",
      "1929/1929 [==============================] - 3s 2ms/step - loss: 1.2041 - accuracy: 0.5925 - val_loss: 1.4084 - val_accuracy: 0.5545\n",
      "Epoch 31/50\n",
      "1929/1929 [==============================] - 3s 2ms/step - loss: 1.1993 - accuracy: 0.5938 - val_loss: 1.4122 - val_accuracy: 0.5535\n",
      "Epoch 32/50\n",
      "1929/1929 [==============================] - 3s 2ms/step - loss: 1.1938 - accuracy: 0.5934 - val_loss: 1.4174 - val_accuracy: 0.5519\n",
      "Epoch 33/50\n",
      "1929/1929 [==============================] - 3s 2ms/step - loss: 1.1895 - accuracy: 0.5944 - val_loss: 1.4152 - val_accuracy: 0.5523\n",
      "Epoch 34/50\n",
      "1929/1929 [==============================] - 3s 2ms/step - loss: 1.1821 - accuracy: 0.5963 - val_loss: 1.4197 - val_accuracy: 0.5513\n",
      "Epoch 35/50\n",
      "1929/1929 [==============================] - 3s 2ms/step - loss: 1.1775 - accuracy: 0.5970 - val_loss: 1.4295 - val_accuracy: 0.5496\n",
      "Epoch 36/50\n",
      "1929/1929 [==============================] - 3s 2ms/step - loss: 1.1751 - accuracy: 0.5996 - val_loss: 1.4259 - val_accuracy: 0.5540\n",
      "Epoch 37/50\n",
      "1929/1929 [==============================] - 3s 2ms/step - loss: 1.1684 - accuracy: 0.5995 - val_loss: 1.4373 - val_accuracy: 0.5530\n",
      "Epoch 38/50\n",
      "1929/1929 [==============================] - 3s 2ms/step - loss: 1.1640 - accuracy: 0.6008 - val_loss: 1.4374 - val_accuracy: 0.5513\n",
      "Epoch 39/50\n",
      "1929/1929 [==============================] - 3s 2ms/step - loss: 1.1575 - accuracy: 0.6014 - val_loss: 1.4597 - val_accuracy: 0.5484\n",
      "Epoch 40/50\n",
      "1929/1929 [==============================] - 3s 2ms/step - loss: 1.1554 - accuracy: 0.6014 - val_loss: 1.4519 - val_accuracy: 0.5516\n",
      "Epoch 41/50\n",
      "1929/1929 [==============================] - 3s 2ms/step - loss: 1.1496 - accuracy: 0.6041 - val_loss: 1.4581 - val_accuracy: 0.5447\n",
      "Epoch 42/50\n",
      "1929/1929 [==============================] - 3s 2ms/step - loss: 1.1470 - accuracy: 0.6041 - val_loss: 1.4690 - val_accuracy: 0.5489\n",
      "Epoch 43/50\n",
      "1929/1929 [==============================] - 3s 2ms/step - loss: 1.1421 - accuracy: 0.6070 - val_loss: 1.4599 - val_accuracy: 0.5490\n",
      "Epoch 44/50\n",
      "1929/1929 [==============================] - 3s 2ms/step - loss: 1.1362 - accuracy: 0.6067 - val_loss: 1.4752 - val_accuracy: 0.5431\n",
      "Epoch 45/50\n",
      "1929/1929 [==============================] - 3s 2ms/step - loss: 1.1328 - accuracy: 0.6077 - val_loss: 1.4755 - val_accuracy: 0.5471\n",
      "Epoch 46/50\n",
      "1929/1929 [==============================] - 3s 2ms/step - loss: 1.1290 - accuracy: 0.6085 - val_loss: 1.4974 - val_accuracy: 0.5476\n",
      "Epoch 47/50\n",
      "1929/1929 [==============================] - 3s 2ms/step - loss: 1.1278 - accuracy: 0.6092 - val_loss: 1.4907 - val_accuracy: 0.5465\n",
      "Epoch 48/50\n",
      "1929/1929 [==============================] - 3s 2ms/step - loss: 1.1230 - accuracy: 0.6105 - val_loss: 1.4956 - val_accuracy: 0.5481\n",
      "Epoch 49/50\n",
      "1929/1929 [==============================] - 3s 2ms/step - loss: 1.1174 - accuracy: 0.6120 - val_loss: 1.5109 - val_accuracy: 0.5447\n",
      "Epoch 50/50\n",
      "1929/1929 [==============================] - 3s 2ms/step - loss: 1.1158 - accuracy: 0.6109 - val_loss: 1.5106 - val_accuracy: 0.5460\n"
     ]
    }
   ],
   "source": [
    "best_randomsearch_params = tuner_hb.get_best_hyperparameters(num_trials=1)[0]\n",
    "hyperband_model = model_builder(best_randomsearch_params)\n",
    "history_hb = hyperband_model.fit(x_train, y_train, epochs=50,validation_data=(x_valid,y_valid))"
   ]
  },
  {
   "cell_type": "code",
   "execution_count": null,
   "metadata": {},
   "outputs": [],
   "source": [
    "eval_result = hyperband_model.evaluate(x_test,y_test)\n",
    "eval_result"
   ]
  }
 ],
 "metadata": {
  "interpreter": {
   "hash": "eb5c4cecea5d0cc7b6f195879a08e1325a36c50d87ab099289b540df622448c6"
  },
  "kernelspec": {
   "display_name": "Python 3.9.2 ('.venv': poetry)",
   "language": "python",
   "name": "python3"
  },
  "language_info": {
   "codemirror_mode": {
    "name": "ipython",
    "version": 3
   },
   "file_extension": ".py",
   "mimetype": "text/x-python",
   "name": "python",
   "nbconvert_exporter": "python",
   "pygments_lexer": "ipython3",
   "version": "3.9.2"
  },
  "orig_nbformat": 4
 },
 "nbformat": 4,
 "nbformat_minor": 2
}
