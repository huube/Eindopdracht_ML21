{
 "cells": [
  {
   "cell_type": "code",
   "execution_count": 39,
   "metadata": {},
   "outputs": [],
   "source": [
    "import numpy as np\n",
    "from pathlib import Path\n",
    "import seaborn as sns\n",
    "import matplotlib.pyplot as plt\n",
    "import pandas as pd\n",
    "import sys, os\n",
    "from loguru import logger\n",
    "import tensorflow as tf\n",
    "from tensorflow import keras\n",
    "from tensorflow.python.keras import layers\n",
    "from sklearn.preprocessing import LabelEncoder, OrdinalEncoder\n",
    "from sklearn.dummy import DummyClassifier\n",
    "from tensorflow.python.keras.layers import Dense, Flatten, Input, Dropout\n",
    "from tensorflow.python.keras.models import Sequential\n",
    "from tensorflow.python.keras.callbacks import EarlyStopping, TensorBoard\n",
    "from ray.tune.integration.keras import TuneReportCallback\n",
    "from ray.tune.schedulers import AsyncHyperBandScheduler\n",
    "from ray.tune import JupyterNotebookReporter\n",
    "from ray import tune\n",
    "\n",
    "sys.path.append('..')\n",
    "\n",
    "from definitions import get_project_root\n",
    "from src.data.make_dataset import create_train_test_validation\n",
    "from src.visualization.visualize import plot_results\n",
    "\n",
    "root = get_project_root()"
   ]
  },
  {
   "cell_type": "code",
   "execution_count": 3,
   "metadata": {},
   "outputs": [],
   "source": [
    "tf.random.set_seed(42)\n",
    "\n"
   ]
  },
  {
   "cell_type": "code",
   "execution_count": 9,
   "metadata": {},
   "outputs": [
    {
     "name": "stderr",
     "output_type": "stream",
     "text": [
      "2022-02-11 18:09:44.516 | INFO     | src.data.make_dataset:create_train_test_validation:73 - found file labeled_data.csv, procceed with creating train, test and validation sets\n"
     ]
    },
    {
     "data": {
      "text/plain": [
       "((61711, 23), (61711, 1), (13225, 23), (13225, 1), (13224, 23), (13224, 1))"
      ]
     },
     "execution_count": 9,
     "metadata": {},
     "output_type": "execute_result"
    }
   ],
   "source": [
    "## Create train, validation and test sets\n",
    "x_train, x_valid, x_test, y_train, y_valid, y_test = create_train_test_validation()\n",
    "x_train.shape, y_train.shape, x_valid.shape, y_valid.shape, x_test.shape, y_test.shape"
   ]
  },
  {
   "cell_type": "code",
   "execution_count": 40,
   "metadata": {},
   "outputs": [],
   "source": [
    "class HyperModel(tf.keras.Model):\n",
    "    def __init__(self,config):\n",
    "        super().__init__(config)\n",
    "\n",
    "        self.dense = Dense(23 , activation=config['activation'])\n",
    "\n",
    "        self.hidden = []\n",
    "        for i in range(config[\"hidden\"]):\n",
    "            self.hidden += [Dense(config[\"hidden\"],activation=config[\"activation\"])]\n",
    "        \n",
    "        self.hidden += [Dropout(config[\"dropout\"])]\n",
    "\n",
    "        self.out = Dense(15, activation=\"softmax\")\n",
    "\n",
    "    def call(self,x):\n",
    "        x = self.dense\n",
    "        \n",
    "        for layer in self.hidden:\n",
    "            x = layer(x)\n",
    "        \n",
    "        x = self.out(x)\n",
    "        return x"
   ]
  },
  {
   "cell_type": "code",
   "execution_count": 41,
   "metadata": {},
   "outputs": [],
   "source": [
    "def train_hyper_model(\n",
    "        config   \n",
    "    ): \n",
    "\n",
    "    \"\"\"Using a config file to train the hyper model with the help of the Ray Hypertuner\"\"\"\n",
    "    x_train, x_valid, x_test, y_train, y_valid, y_test = create_train_test_validation() \n",
    "\n",
    "\n",
    "    model = HyperModel(config)\n",
    "    model.compile(\n",
    "        loss='sparse_categorical_crossentropy',\n",
    "        optimizer = 'adam',\n",
    "        metrics = [\"accuracy\",\"mape\"],\n",
    "    )\n",
    "    callbacks = [\n",
    "        TuneReportCallback(\n",
    "            {\n",
    "                \"val_loss\":\"val_loss\",\n",
    "                \"accuracy\":\"accuracy\",\n",
    "                \"mape\":\"mape\",\n",
    "                \"val_mape\":\"val_mape\"\n",
    "            }\n",
    "        )\n",
    "    ]\n",
    "\n",
    "    result = model.fit(\n",
    "        x_train,\n",
    "        y_train,\n",
    "        epochs=config[\"epochs\"],\n",
    "        validation_data=(x_valid,y_valid),\n",
    "        callbacks=callbacks,\n",
    "        verbose=1\n",
    "    )\n",
    "\n",
    "    return model"
   ]
  },
  {
   "cell_type": "code",
   "execution_count": 42,
   "metadata": {},
   "outputs": [],
   "source": [
    "config = {\n",
    "    \"grace_period\" : 2, \n",
    "    \"local_dir\" : \"logs\",\n",
    "    \"epochs\" : tune.choice([4,5,6]), \n",
    "    \"samples\" : 15,\n",
    "    \"activation\" : \"relu\",\n",
    "    \"hidden\" : tune.randint(1, 5),\n",
    "    \"units\" : tune.qrandint(50, 200, 50), \n",
    "    \"dropout\" : tune.uniform(0.05, 0.4)\n",
    "}"
   ]
  },
  {
   "cell_type": "code",
   "execution_count": 43,
   "metadata": {},
   "outputs": [
    {
     "ename": "TypeError",
     "evalue": "'Integer' object cannot be interpreted as an integer",
     "output_type": "error",
     "traceback": [
      "\u001b[1;31m---------------------------------------------------------------------------\u001b[0m",
      "\u001b[1;31mTypeError\u001b[0m                                 Traceback (most recent call last)",
      "\u001b[1;32mc:\\Users\\huube\\OneDrive\\Master of Informatics\\Machine Learning\\Eindopdracht\\notebooks\\3-hypertune.ipynb Cell 7'\u001b[0m in \u001b[0;36m<module>\u001b[1;34m\u001b[0m\n\u001b[1;32m----> <a href='vscode-notebook-cell:/c%3A/Users/huube/OneDrive/Master%20of%20Informatics/Machine%20Learning/Eindopdracht/notebooks/3-hypertune.ipynb#ch0000009?line=0'>1</a>\u001b[0m \u001b[39mfor\u001b[39;00m i \u001b[39min\u001b[39;00m \u001b[39mrange\u001b[39;49m(config[\u001b[39m\"\u001b[39;49m\u001b[39mhidden\u001b[39;49m\u001b[39m\"\u001b[39;49m]):\n\u001b[0;32m      <a href='vscode-notebook-cell:/c%3A/Users/huube/OneDrive/Master%20of%20Informatics/Machine%20Learning/Eindopdracht/notebooks/3-hypertune.ipynb#ch0000009?line=1'>2</a>\u001b[0m     \u001b[39mprint\u001b[39m(i)\n",
      "\u001b[1;31mTypeError\u001b[0m: 'Integer' object cannot be interpreted as an integer"
     ]
    }
   ],
   "source": [
    "for i in range(config[\"hidden\"]):\n",
    "    print(i)"
   ]
  },
  {
   "cell_type": "code",
   "execution_count": 44,
   "metadata": {},
   "outputs": [
    {
     "name": "stderr",
     "output_type": "stream",
     "text": [
      "2022-02-11 19:03:49.379 | INFO     | src.data.make_dataset:create_train_test_validation:73 - found file labeled_data.csv, procceed with creating train, test and validation sets\n"
     ]
    },
    {
     "ename": "TypeError",
     "evalue": "'Integer' object cannot be interpreted as an integer",
     "output_type": "error",
     "traceback": [
      "\u001b[1;31m---------------------------------------------------------------------------\u001b[0m",
      "\u001b[1;31mTypeError\u001b[0m                                 Traceback (most recent call last)",
      "\u001b[1;32mc:\\Users\\huube\\OneDrive\\Master of Informatics\\Machine Learning\\Eindopdracht\\notebooks\\3-hypertune.ipynb Cell 8'\u001b[0m in \u001b[0;36m<module>\u001b[1;34m\u001b[0m\n\u001b[1;32m----> <a href='vscode-notebook-cell:/c%3A/Users/huube/OneDrive/Master%20of%20Informatics/Machine%20Learning/Eindopdracht/notebooks/3-hypertune.ipynb#ch0000008?line=0'>1</a>\u001b[0m test_model \u001b[39m=\u001b[39m train_hyper_model(config)\n",
      "\u001b[1;32mc:\\Users\\huube\\OneDrive\\Master of Informatics\\Machine Learning\\Eindopdracht\\notebooks\\3-hypertune.ipynb Cell 5'\u001b[0m in \u001b[0;36mtrain_hyper_model\u001b[1;34m(config)\u001b[0m\n\u001b[0;32m      <a href='vscode-notebook-cell:/c%3A/Users/huube/OneDrive/Master%20of%20Informatics/Machine%20Learning/Eindopdracht/notebooks/3-hypertune.ipynb#ch0000004?line=4'>5</a>\u001b[0m \u001b[39m\"\"\"Using a config file to train the hyper model with the help of the Ray Hypertuner\"\"\"\u001b[39;00m\n\u001b[0;32m      <a href='vscode-notebook-cell:/c%3A/Users/huube/OneDrive/Master%20of%20Informatics/Machine%20Learning/Eindopdracht/notebooks/3-hypertune.ipynb#ch0000004?line=5'>6</a>\u001b[0m x_train, x_valid, x_test, y_train, y_valid, y_test \u001b[39m=\u001b[39m create_train_test_validation() \n\u001b[1;32m----> <a href='vscode-notebook-cell:/c%3A/Users/huube/OneDrive/Master%20of%20Informatics/Machine%20Learning/Eindopdracht/notebooks/3-hypertune.ipynb#ch0000004?line=8'>9</a>\u001b[0m model \u001b[39m=\u001b[39m HyperModel(config)\n\u001b[0;32m     <a href='vscode-notebook-cell:/c%3A/Users/huube/OneDrive/Master%20of%20Informatics/Machine%20Learning/Eindopdracht/notebooks/3-hypertune.ipynb#ch0000004?line=9'>10</a>\u001b[0m model\u001b[39m.\u001b[39mcompile(\n\u001b[0;32m     <a href='vscode-notebook-cell:/c%3A/Users/huube/OneDrive/Master%20of%20Informatics/Machine%20Learning/Eindopdracht/notebooks/3-hypertune.ipynb#ch0000004?line=10'>11</a>\u001b[0m     loss\u001b[39m=\u001b[39m\u001b[39m'\u001b[39m\u001b[39msparse_categorical_crossentropy\u001b[39m\u001b[39m'\u001b[39m,\n\u001b[0;32m     <a href='vscode-notebook-cell:/c%3A/Users/huube/OneDrive/Master%20of%20Informatics/Machine%20Learning/Eindopdracht/notebooks/3-hypertune.ipynb#ch0000004?line=11'>12</a>\u001b[0m     optimizer \u001b[39m=\u001b[39m \u001b[39m'\u001b[39m\u001b[39madam\u001b[39m\u001b[39m'\u001b[39m,\n\u001b[0;32m     <a href='vscode-notebook-cell:/c%3A/Users/huube/OneDrive/Master%20of%20Informatics/Machine%20Learning/Eindopdracht/notebooks/3-hypertune.ipynb#ch0000004?line=12'>13</a>\u001b[0m     metrics \u001b[39m=\u001b[39m [\u001b[39m\"\u001b[39m\u001b[39maccuracy\u001b[39m\u001b[39m\"\u001b[39m,\u001b[39m\"\u001b[39m\u001b[39mmape\u001b[39m\u001b[39m\"\u001b[39m],\n\u001b[0;32m     <a href='vscode-notebook-cell:/c%3A/Users/huube/OneDrive/Master%20of%20Informatics/Machine%20Learning/Eindopdracht/notebooks/3-hypertune.ipynb#ch0000004?line=13'>14</a>\u001b[0m )\n\u001b[0;32m     <a href='vscode-notebook-cell:/c%3A/Users/huube/OneDrive/Master%20of%20Informatics/Machine%20Learning/Eindopdracht/notebooks/3-hypertune.ipynb#ch0000004?line=14'>15</a>\u001b[0m callbacks \u001b[39m=\u001b[39m [\n\u001b[0;32m     <a href='vscode-notebook-cell:/c%3A/Users/huube/OneDrive/Master%20of%20Informatics/Machine%20Learning/Eindopdracht/notebooks/3-hypertune.ipynb#ch0000004?line=15'>16</a>\u001b[0m     TuneReportCallback(\n\u001b[0;32m     <a href='vscode-notebook-cell:/c%3A/Users/huube/OneDrive/Master%20of%20Informatics/Machine%20Learning/Eindopdracht/notebooks/3-hypertune.ipynb#ch0000004?line=16'>17</a>\u001b[0m         {\n\u001b[1;32m   (...)\u001b[0m\n\u001b[0;32m     <a href='vscode-notebook-cell:/c%3A/Users/huube/OneDrive/Master%20of%20Informatics/Machine%20Learning/Eindopdracht/notebooks/3-hypertune.ipynb#ch0000004?line=22'>23</a>\u001b[0m     )\n\u001b[0;32m     <a href='vscode-notebook-cell:/c%3A/Users/huube/OneDrive/Master%20of%20Informatics/Machine%20Learning/Eindopdracht/notebooks/3-hypertune.ipynb#ch0000004?line=23'>24</a>\u001b[0m ]\n",
      "\u001b[1;32mc:\\Users\\huube\\OneDrive\\Master of Informatics\\Machine Learning\\Eindopdracht\\notebooks\\3-hypertune.ipynb Cell 4'\u001b[0m in \u001b[0;36mHyperModel.__init__\u001b[1;34m(self, config)\u001b[0m\n\u001b[0;32m      <a href='vscode-notebook-cell:/c%3A/Users/huube/OneDrive/Master%20of%20Informatics/Machine%20Learning/Eindopdracht/notebooks/3-hypertune.ipynb#ch0000003?line=4'>5</a>\u001b[0m \u001b[39mself\u001b[39m\u001b[39m.\u001b[39mdense \u001b[39m=\u001b[39m Dense(\u001b[39m23\u001b[39m , activation\u001b[39m=\u001b[39mconfig[\u001b[39m'\u001b[39m\u001b[39mactivation\u001b[39m\u001b[39m'\u001b[39m])\n\u001b[0;32m      <a href='vscode-notebook-cell:/c%3A/Users/huube/OneDrive/Master%20of%20Informatics/Machine%20Learning/Eindopdracht/notebooks/3-hypertune.ipynb#ch0000003?line=6'>7</a>\u001b[0m \u001b[39mself\u001b[39m\u001b[39m.\u001b[39mhidden \u001b[39m=\u001b[39m []\n\u001b[1;32m----> <a href='vscode-notebook-cell:/c%3A/Users/huube/OneDrive/Master%20of%20Informatics/Machine%20Learning/Eindopdracht/notebooks/3-hypertune.ipynb#ch0000003?line=7'>8</a>\u001b[0m \u001b[39mfor\u001b[39;00m i \u001b[39min\u001b[39;00m \u001b[39mrange\u001b[39;49m(config[\u001b[39m\"\u001b[39;49m\u001b[39mhidden\u001b[39;49m\u001b[39m\"\u001b[39;49m]):\n\u001b[0;32m      <a href='vscode-notebook-cell:/c%3A/Users/huube/OneDrive/Master%20of%20Informatics/Machine%20Learning/Eindopdracht/notebooks/3-hypertune.ipynb#ch0000003?line=8'>9</a>\u001b[0m     \u001b[39mself\u001b[39m\u001b[39m.\u001b[39mhidden \u001b[39m+\u001b[39m\u001b[39m=\u001b[39m [Dense(config[\u001b[39m\"\u001b[39m\u001b[39mhidden\u001b[39m\u001b[39m\"\u001b[39m],activation\u001b[39m=\u001b[39mconfig[\u001b[39m\"\u001b[39m\u001b[39mactivation\u001b[39m\u001b[39m\"\u001b[39m])]\n\u001b[0;32m     <a href='vscode-notebook-cell:/c%3A/Users/huube/OneDrive/Master%20of%20Informatics/Machine%20Learning/Eindopdracht/notebooks/3-hypertune.ipynb#ch0000003?line=10'>11</a>\u001b[0m \u001b[39mself\u001b[39m\u001b[39m.\u001b[39mhidden \u001b[39m+\u001b[39m\u001b[39m=\u001b[39m [Dropout(config[\u001b[39m\"\u001b[39m\u001b[39mdropout\u001b[39m\u001b[39m\"\u001b[39m])]\n",
      "\u001b[1;31mTypeError\u001b[0m: 'Integer' object cannot be interpreted as an integer"
     ]
    }
   ],
   "source": [
    "test_model = train_hyper_model(config)"
   ]
  },
  {
   "cell_type": "code",
   "execution_count": 48,
   "metadata": {},
   "outputs": [
    {
     "name": "stderr",
     "output_type": "stream",
     "text": [
      "'penv' is not recognized as an internal or external command,\n",
      "operable program or batch file.\n"
     ]
    }
   ],
   "source": []
  },
  {
   "cell_type": "code",
   "execution_count": 45,
   "metadata": {},
   "outputs": [
    {
     "name": "stderr",
     "output_type": "stream",
     "text": [
      "2022-02-11 19:03:57,367\tINFO worker.py:862 -- Calling ray.init() again after it has already been called.\n"
     ]
    },
    {
     "data": {
      "text/plain": [
       "True"
      ]
     },
     "execution_count": 45,
     "metadata": {},
     "output_type": "execute_result"
    }
   ],
   "source": [
    "import ray\n",
    "ray.init(num_cpus=4,num_gpus=1,ignore_reinit_error=True)\n",
    "ray.is_initialized()"
   ]
  },
  {
   "cell_type": "code",
   "execution_count": 46,
   "metadata": {},
   "outputs": [
    {
     "data": {
      "text/html": [
       "== Status ==<br>Current time: 2022-02-11 19:04:26 (running for 00:00:26.25)<br>Memory usage on this node: 7.4/7.9 GiB: ***LOW MEMORY*** less than 10% of the memory on this node is available for use. This can cause unexpected crashes. Consider reducing the memory used by your application or reducing the Ray object store size by setting `object_store_memory` when calling `ray.init`.<br>Using FIFO scheduling algorithm.<br>Resources requested: 0/4 CPUs, 0/0 GPUs, 0.0/0.47 GiB heap, 0.0/0.23 GiB objects<br>Result logdir: c:\\Users\\huube\\OneDrive\\Master of Informatics\\Machine Learning\\Eindopdracht\\notebooks\\logs\\hypertuner<br>Number of trials: 15/15 (15 ERROR)<br><table>\n",
       "<thead>\n",
       "<tr><th>Trial name                   </th><th>status  </th><th>loc  </th><th style=\"text-align: right;\">  dropout</th><th style=\"text-align: right;\">  epochs</th><th style=\"text-align: right;\">  hidden</th><th>stop/training_iteration  </th><th style=\"text-align: right;\">  units</th></tr>\n",
       "</thead>\n",
       "<tbody>\n",
       "<tr><td>train_hyper_model_fd4d8_00000</td><td>ERROR   </td><td>     </td><td style=\"text-align: right;\">0.339206 </td><td style=\"text-align: right;\">       6</td><td style=\"text-align: right;\">       1</td><td>                         </td><td style=\"text-align: right;\">    200</td></tr>\n",
       "<tr><td>train_hyper_model_fd4d8_00001</td><td>ERROR   </td><td>     </td><td style=\"text-align: right;\">0.326508 </td><td style=\"text-align: right;\">       5</td><td style=\"text-align: right;\">       3</td><td>                         </td><td style=\"text-align: right;\">    100</td></tr>\n",
       "<tr><td>train_hyper_model_fd4d8_00002</td><td>ERROR   </td><td>     </td><td style=\"text-align: right;\">0.312469 </td><td style=\"text-align: right;\">       5</td><td style=\"text-align: right;\">       2</td><td>                         </td><td style=\"text-align: right;\">    150</td></tr>\n",
       "<tr><td>train_hyper_model_fd4d8_00003</td><td>ERROR   </td><td>     </td><td style=\"text-align: right;\">0.0662585</td><td style=\"text-align: right;\">       6</td><td style=\"text-align: right;\">       4</td><td>                         </td><td style=\"text-align: right;\">    100</td></tr>\n",
       "<tr><td>train_hyper_model_fd4d8_00004</td><td>ERROR   </td><td>     </td><td style=\"text-align: right;\">0.104294 </td><td style=\"text-align: right;\">       5</td><td style=\"text-align: right;\">       4</td><td>                         </td><td style=\"text-align: right;\">    100</td></tr>\n",
       "<tr><td>train_hyper_model_fd4d8_00005</td><td>ERROR   </td><td>     </td><td style=\"text-align: right;\">0.333241 </td><td style=\"text-align: right;\">       6</td><td style=\"text-align: right;\">       1</td><td>                         </td><td style=\"text-align: right;\">     50</td></tr>\n",
       "<tr><td>train_hyper_model_fd4d8_00006</td><td>ERROR   </td><td>     </td><td style=\"text-align: right;\">0.307449 </td><td style=\"text-align: right;\">       5</td><td style=\"text-align: right;\">       3</td><td>                         </td><td style=\"text-align: right;\">    150</td></tr>\n",
       "<tr><td>train_hyper_model_fd4d8_00007</td><td>ERROR   </td><td>     </td><td style=\"text-align: right;\">0.259321 </td><td style=\"text-align: right;\">       5</td><td style=\"text-align: right;\">       4</td><td>                         </td><td style=\"text-align: right;\">     50</td></tr>\n",
       "<tr><td>train_hyper_model_fd4d8_00008</td><td>ERROR   </td><td>     </td><td style=\"text-align: right;\">0.0758588</td><td style=\"text-align: right;\">       5</td><td style=\"text-align: right;\">       4</td><td>                         </td><td style=\"text-align: right;\">    100</td></tr>\n",
       "<tr><td>train_hyper_model_fd4d8_00009</td><td>ERROR   </td><td>     </td><td style=\"text-align: right;\">0.3447   </td><td style=\"text-align: right;\">       5</td><td style=\"text-align: right;\">       2</td><td>                         </td><td style=\"text-align: right;\">    100</td></tr>\n",
       "<tr><td>train_hyper_model_fd4d8_00010</td><td>ERROR   </td><td>     </td><td style=\"text-align: right;\">0.358687 </td><td style=\"text-align: right;\">       6</td><td style=\"text-align: right;\">       4</td><td>                         </td><td style=\"text-align: right;\">     50</td></tr>\n",
       "<tr><td>train_hyper_model_fd4d8_00011</td><td>ERROR   </td><td>     </td><td style=\"text-align: right;\">0.323625 </td><td style=\"text-align: right;\">       4</td><td style=\"text-align: right;\">       3</td><td>                         </td><td style=\"text-align: right;\">    150</td></tr>\n",
       "<tr><td>train_hyper_model_fd4d8_00012</td><td>ERROR   </td><td>     </td><td style=\"text-align: right;\">0.0860818</td><td style=\"text-align: right;\">       5</td><td style=\"text-align: right;\">       4</td><td>                         </td><td style=\"text-align: right;\">    100</td></tr>\n",
       "<tr><td>train_hyper_model_fd4d8_00013</td><td>ERROR   </td><td>     </td><td style=\"text-align: right;\">0.173157 </td><td style=\"text-align: right;\">       6</td><td style=\"text-align: right;\">       4</td><td>                         </td><td style=\"text-align: right;\">    150</td></tr>\n",
       "<tr><td>train_hyper_model_fd4d8_00014</td><td>ERROR   </td><td>     </td><td style=\"text-align: right;\">0.285025 </td><td style=\"text-align: right;\">       4</td><td style=\"text-align: right;\">       4</td><td>                         </td><td style=\"text-align: right;\">    150</td></tr>\n",
       "</tbody>\n",
       "</table><br>Number of errored trials: 15<br><table>\n",
       "<thead>\n",
       "<tr><th>Trial name                   </th><th style=\"text-align: right;\">  # failures</th><th>error file                                                                                                                                                                                                                            </th></tr>\n",
       "</thead>\n",
       "<tbody>\n",
       "<tr><td>train_hyper_model_fd4d8_00000</td><td style=\"text-align: right;\">           1</td><td>c:\\Users\\huube\\OneDrive\\Master of Informatics\\Machine Learning\\Eindopdracht\\notebooks\\logs\\hypertuner\\train_hyper_model_fd4d8_00000_0_dropout=0.33921,epochs=6,hidden=1,units=200,training_iteration=6_2022-02-11_19-04-00\\error.txt  </td></tr>\n",
       "<tr><td>train_hyper_model_fd4d8_00001</td><td style=\"text-align: right;\">           1</td><td>c:\\Users\\huube\\OneDrive\\Master of Informatics\\Machine Learning\\Eindopdracht\\notebooks\\logs\\hypertuner\\train_hyper_model_fd4d8_00001_1_dropout=0.32651,epochs=5,hidden=3,units=100,training_iteration=6_2022-02-11_19-04-04\\error.txt  </td></tr>\n",
       "<tr><td>train_hyper_model_fd4d8_00002</td><td style=\"text-align: right;\">           1</td><td>c:\\Users\\huube\\OneDrive\\Master of Informatics\\Machine Learning\\Eindopdracht\\notebooks\\logs\\hypertuner\\train_hyper_model_fd4d8_00002_2_dropout=0.31247,epochs=5,hidden=2,units=150,training_iteration=6_2022-02-11_19-04-05\\error.txt  </td></tr>\n",
       "<tr><td>train_hyper_model_fd4d8_00003</td><td style=\"text-align: right;\">           1</td><td>c:\\Users\\huube\\OneDrive\\Master of Informatics\\Machine Learning\\Eindopdracht\\notebooks\\logs\\hypertuner\\train_hyper_model_fd4d8_00003_3_dropout=0.066259,epochs=6,hidden=4,units=100,training_iteration=4_2022-02-11_19-04-06\\error.txt </td></tr>\n",
       "<tr><td>train_hyper_model_fd4d8_00004</td><td style=\"text-align: right;\">           1</td><td>c:\\Users\\huube\\OneDrive\\Master of Informatics\\Machine Learning\\Eindopdracht\\notebooks\\logs\\hypertuner\\train_hyper_model_fd4d8_00004_4_dropout=0.10429,epochs=5,hidden=4,units=100,training_iteration=4_2022-02-11_19-04-07\\error.txt  </td></tr>\n",
       "<tr><td>train_hyper_model_fd4d8_00005</td><td style=\"text-align: right;\">           1</td><td>c:\\Users\\huube\\OneDrive\\Master of Informatics\\Machine Learning\\Eindopdracht\\notebooks\\logs\\hypertuner\\train_hyper_model_fd4d8_00005_5_dropout=0.33324,epochs=6,hidden=1,units=50,training_iteration=6_2022-02-11_19-04-08\\error.txt   </td></tr>\n",
       "<tr><td>train_hyper_model_fd4d8_00006</td><td style=\"text-align: right;\">           1</td><td>c:\\Users\\huube\\OneDrive\\Master of Informatics\\Machine Learning\\Eindopdracht\\notebooks\\logs\\hypertuner\\train_hyper_model_fd4d8_00006_6_dropout=0.30745,epochs=5,hidden=3,units=150,training_iteration=5_2022-02-11_19-04-11\\error.txt  </td></tr>\n",
       "<tr><td>train_hyper_model_fd4d8_00007</td><td style=\"text-align: right;\">           1</td><td>c:\\Users\\huube\\OneDrive\\Master of Informatics\\Machine Learning\\Eindopdracht\\notebooks\\logs\\hypertuner\\train_hyper_model_fd4d8_00007_7_dropout=0.25932,epochs=5,hidden=4,units=50,training_iteration=4_2022-02-11_19-04-13\\error.txt   </td></tr>\n",
       "<tr><td>train_hyper_model_fd4d8_00008</td><td style=\"text-align: right;\">           1</td><td>c:\\Users\\huube\\OneDrive\\Master of Informatics\\Machine Learning\\Eindopdracht\\notebooks\\logs\\hypertuner\\train_hyper_model_fd4d8_00008_8_dropout=0.075859,epochs=5,hidden=4,units=100,training_iteration=4_2022-02-11_19-04-14\\error.txt </td></tr>\n",
       "<tr><td>train_hyper_model_fd4d8_00009</td><td style=\"text-align: right;\">           1</td><td>c:\\Users\\huube\\OneDrive\\Master of Informatics\\Machine Learning\\Eindopdracht\\notebooks\\logs\\hypertuner\\train_hyper_model_fd4d8_00009_9_dropout=0.3447,epochs=5,hidden=2,units=100,training_iteration=6_2022-02-11_19-04-14\\error.txt   </td></tr>\n",
       "<tr><td>train_hyper_model_fd4d8_00010</td><td style=\"text-align: right;\">           1</td><td>c:\\Users\\huube\\OneDrive\\Master of Informatics\\Machine Learning\\Eindopdracht\\notebooks\\logs\\hypertuner\\train_hyper_model_fd4d8_00010_10_dropout=0.35869,epochs=6,hidden=4,units=50,training_iteration=6_2022-02-11_19-04-18\\error.txt  </td></tr>\n",
       "<tr><td>train_hyper_model_fd4d8_00011</td><td style=\"text-align: right;\">           1</td><td>c:\\Users\\huube\\OneDrive\\Master of Informatics\\Machine Learning\\Eindopdracht\\notebooks\\logs\\hypertuner\\train_hyper_model_fd4d8_00011_11_dropout=0.32362,epochs=4,hidden=3,units=150,training_iteration=6_2022-02-11_19-04-19\\error.txt </td></tr>\n",
       "<tr><td>train_hyper_model_fd4d8_00012</td><td style=\"text-align: right;\">           1</td><td>c:\\Users\\huube\\OneDrive\\Master of Informatics\\Machine Learning\\Eindopdracht\\notebooks\\logs\\hypertuner\\train_hyper_model_fd4d8_00012_12_dropout=0.086082,epochs=5,hidden=4,units=100,training_iteration=5_2022-02-11_19-04-21\\error.txt</td></tr>\n",
       "<tr><td>train_hyper_model_fd4d8_00013</td><td style=\"text-align: right;\">           1</td><td>c:\\Users\\huube\\OneDrive\\Master of Informatics\\Machine Learning\\Eindopdracht\\notebooks\\logs\\hypertuner\\train_hyper_model_fd4d8_00013_13_dropout=0.17316,epochs=6,hidden=4,units=150,training_iteration=5_2022-02-11_19-04-21\\error.txt </td></tr>\n",
       "<tr><td>train_hyper_model_fd4d8_00014</td><td style=\"text-align: right;\">           1</td><td>c:\\Users\\huube\\OneDrive\\Master of Informatics\\Machine Learning\\Eindopdracht\\notebooks\\logs\\hypertuner\\train_hyper_model_fd4d8_00014_14_dropout=0.28503,epochs=4,hidden=4,units=150,training_iteration=5_2022-02-11_19-04-25\\error.txt </td></tr>\n",
       "</tbody>\n",
       "</table><br>"
      ],
      "text/plain": [
       "<IPython.core.display.HTML object>"
      ]
     },
     "metadata": {},
     "output_type": "display_data"
    },
    {
     "name": "stderr",
     "output_type": "stream",
     "text": [
      " pid=3580)\u001b[0m 2022-02-11 19:04:26,672\tERROR worker.py:432 -- SystemExit was raised from the worker.\n",
      " pid=3580)\u001b[0m Traceback (most recent call last):\n",
      " pid=3580)\u001b[0m   File \"python\\ray\\_raylet.pyx\", line 629, in ray._raylet.execute_task\n",
      " pid=3580)\u001b[0m   File \"python\\ray\\_raylet.pyx\", line 670, in ray._raylet.execute_task\n",
      " pid=3580)\u001b[0m   File \"python\\ray\\_raylet.pyx\", line 636, in ray._raylet.execute_task\n",
      " pid=3580)\u001b[0m   File \"python\\ray\\_raylet.pyx\", line 640, in ray._raylet.execute_task\n",
      " pid=3580)\u001b[0m   File \"python\\ray\\_raylet.pyx\", line 589, in ray._raylet.execute_task.function_executor\n",
      " pid=3580)\u001b[0m   File \"c:\\Users\\huube\\OneDrive\\Master of Informatics\\Machine Learning\\Eindopdracht\\.venv\\lib\\site-packages\\ray\\_private\\function_manager.py\", line 639, in actor_method_executor\n",
      " pid=3580)\u001b[0m     return method(__ray_actor, *args, **kwargs)\n",
      " pid=3580)\u001b[0m   File \"c:\\Users\\huube\\OneDrive\\Master of Informatics\\Machine Learning\\Eindopdracht\\.venv\\lib\\site-packages\\ray\\_private\\function_manager.py\", line 542, in temporary_actor_method\n",
      " pid=3580)\u001b[0m     raise RuntimeError(\n",
      " pid=3580)\u001b[0m RuntimeError: The actor with name ImplicitFunc failed to import on the worker. This may be because needed library dependencies are not installed in the worker environment:\n",
      " pid=3580)\u001b[0m raryActor\n",
      " pid=3580)\u001b[0m Traceback (most recent call last):\n",
      " pid=3580)\u001b[0m   File \"c:\\Users\\huube\\OneDrive\\Master of Informatics\\Machine Learning\\Eindopdracht\\.venv\\lib\\site-packages\\ray\\_private\\function_manager.py\", line 594, in _load_actor_class_from_gcs\n",
      " pid=3580)\u001b[0m     actor_class = pickle.loads(pickled_class)\n",
      " pid=3580)\u001b[0m ModuleNotFoundError: No module named 'src'\n",
      " pid=3580)\u001b[0m raryActor\n",
      " pid=3580)\u001b[0m raryActor\n",
      " pid=3580)\u001b[0m During handling of the above exception, another exception occurred:\n",
      " pid=3580)\u001b[0m raryActor\n",
      " pid=3580)\u001b[0m Traceback (most recent call last):\n",
      " pid=3580)\u001b[0m   File \"python\\ray\\_raylet.pyx\", line 770, in ray._raylet.task_execution_handler\n",
      " pid=3580)\u001b[0m   File \"python\\ray\\_raylet.pyx\", line 591, in ray._raylet.execute_task\n",
      " pid=3580)\u001b[0m   File \"python\\ray\\_raylet.pyx\", line 711, in ray._raylet.execute_task\n",
      " pid=3580)\u001b[0m   File \"c:\\Users\\huube\\OneDrive\\Master of Informatics\\Machine Learning\\Eindopdracht\\.venv\\lib\\site-packages\\ray\\_private\\function_manager.py\", line 542, in temporary_actor_method\n",
      " pid=3580)\u001b[0m     raise RuntimeError(\n",
      " pid=3580)\u001b[0m RuntimeError: The actor with name ImplicitFunc failed to import on the worker. This may be because needed library dependencies are not installed in the worker environment:\n",
      " pid=3580)\u001b[0m raryActor\n",
      " pid=3580)\u001b[0m Traceback (most recent call last):\n",
      " pid=3580)\u001b[0m   File \"c:\\Users\\huube\\OneDrive\\Master of Informatics\\Machine Learning\\Eindopdracht\\.venv\\lib\\site-packages\\ray\\_private\\function_manager.py\", line 594, in _load_actor_class_from_gcs\n",
      " pid=3580)\u001b[0m     actor_class = pickle.loads(pickled_class)\n",
      " pid=3580)\u001b[0m ModuleNotFoundError: No module named 'src'\n",
      " pid=3580)\u001b[0m raryActor\n",
      " pid=3580)\u001b[0m raryActor\n",
      " pid=3580)\u001b[0m During handling of the above exception, another exception occurred:\n",
      " pid=3580)\u001b[0m raryActor\n",
      " pid=3580)\u001b[0m Traceback (most recent call last):\n",
      " pid=3580)\u001b[0m   File \"python\\ray\\_raylet.pyx\", line 799, in ray._raylet.task_execution_handler\n",
      " pid=3580)\u001b[0m SystemExit\n"
     ]
    },
    {
     "ename": "TuneError",
     "evalue": "('Trials did not complete', [train_hyper_model_fd4d8_00000, train_hyper_model_fd4d8_00001, train_hyper_model_fd4d8_00002, train_hyper_model_fd4d8_00003, train_hyper_model_fd4d8_00004, train_hyper_model_fd4d8_00005, train_hyper_model_fd4d8_00006, train_hyper_model_fd4d8_00007, train_hyper_model_fd4d8_00008, train_hyper_model_fd4d8_00009, train_hyper_model_fd4d8_00010, train_hyper_model_fd4d8_00011, train_hyper_model_fd4d8_00012, train_hyper_model_fd4d8_00013, train_hyper_model_fd4d8_00014])",
     "output_type": "error",
     "traceback": [
      "\u001b[1;31m---------------------------------------------------------------------------\u001b[0m",
      "\u001b[1;31mTuneError\u001b[0m                                 Traceback (most recent call last)",
      "\u001b[1;32mc:\\Users\\huube\\OneDrive\\Master of Informatics\\Machine Learning\\Eindopdracht\\notebooks\\3-hypertune.ipynb Cell 10'\u001b[0m in \u001b[0;36m<module>\u001b[1;34m\u001b[0m\n\u001b[0;32m      <a href='vscode-notebook-cell:/c%3A/Users/huube/OneDrive/Master%20of%20Informatics/Machine%20Learning/Eindopdracht/notebooks/3-hypertune.ipynb#ch0000006?line=0'>1</a>\u001b[0m sched \u001b[39m=\u001b[39m AsyncHyperBandScheduler(\n\u001b[0;32m      <a href='vscode-notebook-cell:/c%3A/Users/huube/OneDrive/Master%20of%20Informatics/Machine%20Learning/Eindopdracht/notebooks/3-hypertune.ipynb#ch0000006?line=1'>2</a>\u001b[0m     time_attr \u001b[39m=\u001b[39m\u001b[39m\"\u001b[39m\u001b[39mtrainingiteration\u001b[39m\u001b[39m\"\u001b[39m, max_t\u001b[39m=\u001b[39m\u001b[39m200\u001b[39m, grace_period\u001b[39m=\u001b[39mconfig[\u001b[39m\"\u001b[39m\u001b[39mgrace_period\u001b[39m\u001b[39m\"\u001b[39m]\n\u001b[0;32m      <a href='vscode-notebook-cell:/c%3A/Users/huube/OneDrive/Master%20of%20Informatics/Machine%20Learning/Eindopdracht/notebooks/3-hypertune.ipynb#ch0000006?line=2'>3</a>\u001b[0m )\n\u001b[0;32m      <a href='vscode-notebook-cell:/c%3A/Users/huube/OneDrive/Master%20of%20Informatics/Machine%20Learning/Eindopdracht/notebooks/3-hypertune.ipynb#ch0000006?line=4'>5</a>\u001b[0m reporter \u001b[39m=\u001b[39m JupyterNotebookReporter(overwrite\u001b[39m=\u001b[39m\u001b[39mTrue\u001b[39;00m)\n\u001b[1;32m----> <a href='vscode-notebook-cell:/c%3A/Users/huube/OneDrive/Master%20of%20Informatics/Machine%20Learning/Eindopdracht/notebooks/3-hypertune.ipynb#ch0000006?line=6'>7</a>\u001b[0m analysis \u001b[39m=\u001b[39m tune\u001b[39m.\u001b[39;49mrun(\n\u001b[0;32m      <a href='vscode-notebook-cell:/c%3A/Users/huube/OneDrive/Master%20of%20Informatics/Machine%20Learning/Eindopdracht/notebooks/3-hypertune.ipynb#ch0000006?line=7'>8</a>\u001b[0m     train_hyper_model,\n\u001b[0;32m      <a href='vscode-notebook-cell:/c%3A/Users/huube/OneDrive/Master%20of%20Informatics/Machine%20Learning/Eindopdracht/notebooks/3-hypertune.ipynb#ch0000006?line=8'>9</a>\u001b[0m     config\u001b[39m=\u001b[39;49mconfig,\n\u001b[0;32m     <a href='vscode-notebook-cell:/c%3A/Users/huube/OneDrive/Master%20of%20Informatics/Machine%20Learning/Eindopdracht/notebooks/3-hypertune.ipynb#ch0000006?line=9'>10</a>\u001b[0m     name\u001b[39m=\u001b[39;49m\u001b[39m\"\u001b[39;49m\u001b[39mhypertuner\u001b[39;49m\u001b[39m\"\u001b[39;49m,\n\u001b[0;32m     <a href='vscode-notebook-cell:/c%3A/Users/huube/OneDrive/Master%20of%20Informatics/Machine%20Learning/Eindopdracht/notebooks/3-hypertune.ipynb#ch0000006?line=10'>11</a>\u001b[0m     \u001b[39m#scheduler=sched,\u001b[39;49;00m\n\u001b[0;32m     <a href='vscode-notebook-cell:/c%3A/Users/huube/OneDrive/Master%20of%20Informatics/Machine%20Learning/Eindopdracht/notebooks/3-hypertune.ipynb#ch0000006?line=11'>12</a>\u001b[0m     metric\u001b[39m=\u001b[39;49m\u001b[39m\"\u001b[39;49m\u001b[39mval_loss\u001b[39;49m\u001b[39m\"\u001b[39;49m,\n\u001b[0;32m     <a href='vscode-notebook-cell:/c%3A/Users/huube/OneDrive/Master%20of%20Informatics/Machine%20Learning/Eindopdracht/notebooks/3-hypertune.ipynb#ch0000006?line=12'>13</a>\u001b[0m     mode\u001b[39m=\u001b[39;49m\u001b[39m\"\u001b[39;49m\u001b[39mmin\u001b[39;49m\u001b[39m\"\u001b[39;49m,\n\u001b[0;32m     <a href='vscode-notebook-cell:/c%3A/Users/huube/OneDrive/Master%20of%20Informatics/Machine%20Learning/Eindopdracht/notebooks/3-hypertune.ipynb#ch0000006?line=13'>14</a>\u001b[0m     progress_reporter\u001b[39m=\u001b[39;49mreporter,\n\u001b[0;32m     <a href='vscode-notebook-cell:/c%3A/Users/huube/OneDrive/Master%20of%20Informatics/Machine%20Learning/Eindopdracht/notebooks/3-hypertune.ipynb#ch0000006?line=14'>15</a>\u001b[0m     local_dir\u001b[39m=\u001b[39;49mconfig[\u001b[39m\"\u001b[39;49m\u001b[39mlocal_dir\u001b[39;49m\u001b[39m\"\u001b[39;49m],\n\u001b[0;32m     <a href='vscode-notebook-cell:/c%3A/Users/huube/OneDrive/Master%20of%20Informatics/Machine%20Learning/Eindopdracht/notebooks/3-hypertune.ipynb#ch0000006?line=15'>16</a>\u001b[0m     stop\u001b[39m=\u001b[39;49m{\u001b[39m\"\u001b[39;49m\u001b[39mtraining_iteration\u001b[39;49m\u001b[39m\"\u001b[39;49m:config[\u001b[39m\"\u001b[39;49m\u001b[39mepochs\u001b[39;49m\u001b[39m\"\u001b[39;49m]},\n\u001b[0;32m     <a href='vscode-notebook-cell:/c%3A/Users/huube/OneDrive/Master%20of%20Informatics/Machine%20Learning/Eindopdracht/notebooks/3-hypertune.ipynb#ch0000006?line=16'>17</a>\u001b[0m     num_samples\u001b[39m=\u001b[39;49mconfig[\u001b[39m\"\u001b[39;49m\u001b[39msamples\u001b[39;49m\u001b[39m\"\u001b[39;49m])\n",
      "File \u001b[1;32mc:\\Users\\huube\\OneDrive\\Master of Informatics\\Machine Learning\\Eindopdracht\\.venv\\lib\\site-packages\\ray\\tune\\tune.py:630\u001b[0m, in \u001b[0;36mrun\u001b[1;34m(run_or_experiment, name, metric, mode, stop, time_budget_s, config, resources_per_trial, num_samples, local_dir, search_alg, scheduler, keep_checkpoints_num, checkpoint_score_attr, checkpoint_freq, checkpoint_at_end, verbose, progress_reporter, log_to_file, trial_name_creator, trial_dirname_creator, sync_config, export_formats, max_failures, fail_fast, restore, server_port, resume, reuse_actors, trial_executor, raise_on_failed_trial, callbacks, max_concurrent_trials, queue_trials, loggers, _remote)\u001b[0m\n\u001b[0;32m    <a href='file:///c%3A/Users/huube/OneDrive/Master%20of%20Informatics/Machine%20Learning/Eindopdracht/.venv/lib/site-packages/ray/tune/tune.py?line=627'>628</a>\u001b[0m \u001b[39mif\u001b[39;00m incomplete_trials:\n\u001b[0;32m    <a href='file:///c%3A/Users/huube/OneDrive/Master%20of%20Informatics/Machine%20Learning/Eindopdracht/.venv/lib/site-packages/ray/tune/tune.py?line=628'>629</a>\u001b[0m     \u001b[39mif\u001b[39;00m raise_on_failed_trial \u001b[39mand\u001b[39;00m \u001b[39mnot\u001b[39;00m state[signal\u001b[39m.\u001b[39mSIGINT]:\n\u001b[1;32m--> <a href='file:///c%3A/Users/huube/OneDrive/Master%20of%20Informatics/Machine%20Learning/Eindopdracht/.venv/lib/site-packages/ray/tune/tune.py?line=629'>630</a>\u001b[0m         \u001b[39mraise\u001b[39;00m TuneError(\u001b[39m\"\u001b[39m\u001b[39mTrials did not complete\u001b[39m\u001b[39m\"\u001b[39m, incomplete_trials)\n\u001b[0;32m    <a href='file:///c%3A/Users/huube/OneDrive/Master%20of%20Informatics/Machine%20Learning/Eindopdracht/.venv/lib/site-packages/ray/tune/tune.py?line=630'>631</a>\u001b[0m     \u001b[39melse\u001b[39;00m:\n\u001b[0;32m    <a href='file:///c%3A/Users/huube/OneDrive/Master%20of%20Informatics/Machine%20Learning/Eindopdracht/.venv/lib/site-packages/ray/tune/tune.py?line=631'>632</a>\u001b[0m         logger\u001b[39m.\u001b[39merror(\u001b[39m\"\u001b[39m\u001b[39mTrials did not complete: \u001b[39m\u001b[39m%s\u001b[39;00m\u001b[39m\"\u001b[39m, incomplete_trials)\n",
      "\u001b[1;31mTuneError\u001b[0m: ('Trials did not complete', [train_hyper_model_fd4d8_00000, train_hyper_model_fd4d8_00001, train_hyper_model_fd4d8_00002, train_hyper_model_fd4d8_00003, train_hyper_model_fd4d8_00004, train_hyper_model_fd4d8_00005, train_hyper_model_fd4d8_00006, train_hyper_model_fd4d8_00007, train_hyper_model_fd4d8_00008, train_hyper_model_fd4d8_00009, train_hyper_model_fd4d8_00010, train_hyper_model_fd4d8_00011, train_hyper_model_fd4d8_00012, train_hyper_model_fd4d8_00013, train_hyper_model_fd4d8_00014])"
     ]
    }
   ],
   "source": [
    "sched = AsyncHyperBandScheduler(\n",
    "    time_attr =\"trainingiteration\", max_t=200, grace_period=config[\"grace_period\"]\n",
    ")\n",
    "\n",
    "reporter = JupyterNotebookReporter(overwrite=True)\n",
    "\n",
    "analysis = tune.run(\n",
    "    train_hyper_model,\n",
    "    config=config,\n",
    "    name=\"hypertuner\",\n",
    "    #scheduler=sched,\n",
    "    metric=\"val_loss\",\n",
    "    mode=\"min\",\n",
    "    progress_reporter=reporter,\n",
    "    local_dir=config[\"local_dir\"],\n",
    "    stop={\"training_iteration\":config[\"epochs\"]},\n",
    "    num_samples=config[\"samples\"])"
   ]
  }
 ],
 "metadata": {
  "interpreter": {
   "hash": "eb5c4cecea5d0cc7b6f195879a08e1325a36c50d87ab099289b540df622448c6"
  },
  "kernelspec": {
   "display_name": "Python 3.9.2 ('.venv': poetry)",
   "language": "python",
   "name": "python3"
  },
  "language_info": {
   "codemirror_mode": {
    "name": "ipython",
    "version": 3
   },
   "file_extension": ".py",
   "mimetype": "text/x-python",
   "name": "python",
   "nbconvert_exporter": "python",
   "pygments_lexer": "ipython3",
   "version": "3.9.2"
  },
  "orig_nbformat": 4
 },
 "nbformat": 4,
 "nbformat_minor": 2
}
