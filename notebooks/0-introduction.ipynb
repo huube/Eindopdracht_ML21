{
 "cells": [
  {
   "cell_type": "markdown",
   "metadata": {},
   "source": [
    "<h1> Predicting a songs genre!</h1>\n",
    "\n",
    "Author: Huub Elijzen \n",
    "\n",
    "Final project Machine Learning course\n",
    "\n",
    "<h2>Introduction</h2>\n",
    "\n",
    "These days there is a lot of data stored and accessible and with the help of the GDPR legislation, I was able to collect all data Spotify had about me and my historic music listening behavior. This way I was able to extract 10 years of listening data and create some nice analysis on this data. I ran into one problem though; the solution did not give insights on music genre since this data is not available on song level from the Spotify API. \n",
    "\n",
    "Whilst looking for a nice dataset to use for this course, I stumbled upon the one million song dataset. This is, as the title already suggest, a dataset containing a million song titles. This gave me the inspiration to look for a dataset where I could find labeled data on songs with genre label. This to finally tackle the problem stated above: I need to have insights in my listening behavior on genre level. Luckily I found this set. And this set, enriched with Spotify metadata, is the foundation of this project.\n",
    "\n",
    "I’ve already ran the data through the API and I ended up with about 90.000 songs with a genre classification. \n",
    "\n",
    "Up front I have no clear feeling to what extent this project can succeed. For me it would be acceptable if I would be able to predict 70% of the songs’ genres correctly. However I already feel that this is ambitious since music is complex. The classification reduces the genre back to fifteen core genres according western standards. However there are hundreds of subgenres. Also music is not an exact science and some songs’ genres might be in a grey area where there is no consensus on the actual genre. \n",
    "\n",
    "All and all a challenging project but I am really looking forward to learning a lot!\n"
   ]
  }
 ],
 "metadata": {
  "language_info": {
   "name": "python"
  },
  "orig_nbformat": 4
 },
 "nbformat": 4,
 "nbformat_minor": 2
}
